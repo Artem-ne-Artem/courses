{
 "cells": [
  {
   "cell_type": "markdown",
   "metadata": {},
   "source": [
    "### Обработать данные из датасета по e-commerce, для дальнейшей работы с ним"
   ]
  },
  {
   "cell_type": "code",
   "execution_count": 38,
   "metadata": {},
   "outputs": [],
   "source": [
    "import pandas as pd\n",
    "import datetime as dt"
   ]
  },
  {
   "cell_type": "code",
   "execution_count": 39,
   "metadata": {},
   "outputs": [],
   "source": [
    "df = pd.read_csv(r'C:\\Users\\Артем\\New_Jupyter\\data\\sravni_ru_data.csv', encoding='Windows-1251')"
   ]
  },
  {
   "cell_type": "markdown",
   "metadata": {},
   "source": [
    "## Смотрим информацию по датасету"
   ]
  },
  {
   "cell_type": "code",
   "execution_count": 40,
   "metadata": {},
   "outputs": [
    {
     "data": {
      "text/html": [
       "<div>\n",
       "<style scoped>\n",
       "    .dataframe tbody tr th:only-of-type {\n",
       "        vertical-align: middle;\n",
       "    }\n",
       "\n",
       "    .dataframe tbody tr th {\n",
       "        vertical-align: top;\n",
       "    }\n",
       "\n",
       "    .dataframe thead th {\n",
       "        text-align: right;\n",
       "    }\n",
       "</style>\n",
       "<table border=\"1\" class=\"dataframe\">\n",
       "  <thead>\n",
       "    <tr style=\"text-align: right;\">\n",
       "      <th></th>\n",
       "      <th>Quantity</th>\n",
       "      <th>UnitPrice</th>\n",
       "      <th>CustomerID</th>\n",
       "    </tr>\n",
       "  </thead>\n",
       "  <tbody>\n",
       "    <tr>\n",
       "      <th>count</th>\n",
       "      <td>541909.000000</td>\n",
       "      <td>541909.000000</td>\n",
       "      <td>406829.000000</td>\n",
       "    </tr>\n",
       "    <tr>\n",
       "      <th>mean</th>\n",
       "      <td>9.552250</td>\n",
       "      <td>4.611114</td>\n",
       "      <td>15287.690570</td>\n",
       "    </tr>\n",
       "    <tr>\n",
       "      <th>std</th>\n",
       "      <td>218.081158</td>\n",
       "      <td>96.759853</td>\n",
       "      <td>1713.600303</td>\n",
       "    </tr>\n",
       "    <tr>\n",
       "      <th>min</th>\n",
       "      <td>-80995.000000</td>\n",
       "      <td>-11062.060000</td>\n",
       "      <td>12346.000000</td>\n",
       "    </tr>\n",
       "    <tr>\n",
       "      <th>25%</th>\n",
       "      <td>1.000000</td>\n",
       "      <td>1.250000</td>\n",
       "      <td>13953.000000</td>\n",
       "    </tr>\n",
       "    <tr>\n",
       "      <th>50%</th>\n",
       "      <td>3.000000</td>\n",
       "      <td>2.080000</td>\n",
       "      <td>15152.000000</td>\n",
       "    </tr>\n",
       "    <tr>\n",
       "      <th>75%</th>\n",
       "      <td>10.000000</td>\n",
       "      <td>4.130000</td>\n",
       "      <td>16791.000000</td>\n",
       "    </tr>\n",
       "    <tr>\n",
       "      <th>max</th>\n",
       "      <td>80995.000000</td>\n",
       "      <td>38970.000000</td>\n",
       "      <td>18287.000000</td>\n",
       "    </tr>\n",
       "  </tbody>\n",
       "</table>\n",
       "</div>"
      ],
      "text/plain": [
       "            Quantity      UnitPrice     CustomerID\n",
       "count  541909.000000  541909.000000  406829.000000\n",
       "mean        9.552250       4.611114   15287.690570\n",
       "std       218.081158      96.759853    1713.600303\n",
       "min    -80995.000000  -11062.060000   12346.000000\n",
       "25%         1.000000       1.250000   13953.000000\n",
       "50%         3.000000       2.080000   15152.000000\n",
       "75%        10.000000       4.130000   16791.000000\n",
       "max     80995.000000   38970.000000   18287.000000"
      ]
     },
     "execution_count": 40,
     "metadata": {},
     "output_type": "execute_result"
    }
   ],
   "source": [
    "df.describe()"
   ]
  },
  {
   "cell_type": "code",
   "execution_count": 41,
   "metadata": {},
   "outputs": [
    {
     "name": "stdout",
     "output_type": "stream",
     "text": [
      "<class 'pandas.core.frame.DataFrame'>\n",
      "RangeIndex: 541909 entries, 0 to 541908\n",
      "Data columns (total 8 columns):\n",
      " #   Column       Non-Null Count   Dtype  \n",
      "---  ------       --------------   -----  \n",
      " 0   InvoiceNo    541909 non-null  object \n",
      " 1   StockCode    541909 non-null  object \n",
      " 2   Description  540455 non-null  object \n",
      " 3   Quantity     541909 non-null  int64  \n",
      " 4   InvoiceDate  541909 non-null  object \n",
      " 5   UnitPrice    541909 non-null  float64\n",
      " 6   CustomerID   406829 non-null  float64\n",
      " 7   Country      541909 non-null  object \n",
      "dtypes: float64(2), int64(1), object(5)\n",
      "memory usage: 33.1+ MB\n"
     ]
    }
   ],
   "source": [
    "df.info()"
   ]
  },
  {
   "cell_type": "code",
   "execution_count": 42,
   "metadata": {
    "scrolled": true
   },
   "outputs": [
    {
     "data": {
      "text/plain": [
       "InvoiceNo           0\n",
       "StockCode           0\n",
       "Description      1454\n",
       "Quantity            0\n",
       "InvoiceDate         0\n",
       "UnitPrice           0\n",
       "CustomerID     135080\n",
       "Country             0\n",
       "dtype: int64"
      ]
     },
     "execution_count": 42,
     "metadata": {},
     "output_type": "execute_result"
    }
   ],
   "source": [
    "# смотрим где и сколько null\n",
    "df.isna().sum()"
   ]
  },
  {
   "cell_type": "code",
   "execution_count": 43,
   "metadata": {},
   "outputs": [
    {
     "name": "stdout",
     "output_type": "stream",
     "text": [
      "InvoiceNo 0.0\n",
      "StockCode 0.0\n",
      "Description 0.27\n",
      "Quantity 0.0\n",
      "InvoiceDate 0.0\n",
      "UnitPrice 0.0\n",
      "CustomerID 24.93\n",
      "Country 0.0\n"
     ]
    }
   ],
   "source": [
    "# смотри null в процентах\n",
    "for col in df.columns:\n",
    "  print(col, round(df[col].isna().sum() / df.shape[0] *100,2))"
   ]
  },
  {
   "cell_type": "code",
   "execution_count": 68,
   "metadata": {},
   "outputs": [
    {
     "data": {
      "text/plain": [
       "10624"
      ]
     },
     "execution_count": 68,
     "metadata": {},
     "output_type": "execute_result"
    }
   ],
   "source": [
    "# смотрим сколько раз встречаются товары с отрицательным количеством продаж (возможно это возвраты, но мы этого не знаем)\n",
    "df.Quantity[df.Quantity < 0].count()"
   ]
  },
  {
   "cell_type": "code",
   "execution_count": 48,
   "metadata": {},
   "outputs": [
    {
     "data": {
      "text/plain": [
       "2"
      ]
     },
     "execution_count": 48,
     "metadata": {},
     "output_type": "execute_result"
    }
   ],
   "source": [
    "# смотрим сколько раз встречаются товары с отрицательной ценой\n",
    "df.UnitPrice[df.UnitPrice < 0].count()"
   ]
  },
  {
   "cell_type": "code",
   "execution_count": 49,
   "metadata": {},
   "outputs": [
    {
     "data": {
      "text/plain": [
       "InvoiceNo      25900\n",
       "StockCode       4070\n",
       "Description     4223\n",
       "Quantity         722\n",
       "InvoiceDate    23260\n",
       "UnitPrice       1630\n",
       "CustomerID      4372\n",
       "Country           38\n",
       "dtype: int64"
      ]
     },
     "execution_count": 49,
     "metadata": {},
     "output_type": "execute_result"
    }
   ],
   "source": [
    "df.nunique()"
   ]
  },
  {
   "cell_type": "code",
   "execution_count": 50,
   "metadata": {},
   "outputs": [
    {
     "data": {
      "text/plain": [
       "United Kingdom          495478\n",
       "Germany                   9495\n",
       "France                    8557\n",
       "EIRE                      8196\n",
       "Spain                     2533\n",
       "Netherlands               2371\n",
       "Belgium                   2069\n",
       "Switzerland               2002\n",
       "Portugal                  1519\n",
       "Australia                 1259\n",
       "Norway                    1086\n",
       "Italy                      803\n",
       "Channel Islands            758\n",
       "Finland                    695\n",
       "Cyprus                     622\n",
       "Sweden                     462\n",
       "Unspecified                446\n",
       "Austria                    401\n",
       "Denmark                    389\n",
       "Japan                      358\n",
       "Poland                     341\n",
       "Israel                     297\n",
       "USA                        291\n",
       "Hong Kong                  288\n",
       "Singapore                  229\n",
       "Iceland                    182\n",
       "Canada                     151\n",
       "Greece                     146\n",
       "Malta                      127\n",
       "United Arab Emirates        68\n",
       "European Community          61\n",
       "RSA                         58\n",
       "Lebanon                     45\n",
       "Lithuania                   35\n",
       "Brazil                      32\n",
       "Czech Republic              30\n",
       "Bahrain                     19\n",
       "Saudi Arabia                10\n",
       "Name: Country, dtype: int64"
      ]
     },
     "execution_count": 50,
     "metadata": {},
     "output_type": "execute_result"
    }
   ],
   "source": [
    "# смотрим уникальные страны и кол-во повторов по датасету\n",
    "df['Country'].value_counts()"
   ]
  },
  {
   "cell_type": "code",
   "execution_count": 51,
   "metadata": {},
   "outputs": [
    {
     "data": {
      "text/plain": [
       "WHITE HANGING HEART T-LIGHT HOLDER    2369\n",
       "REGENCY CAKESTAND 3 TIER              2200\n",
       "JUMBO BAG RED RETROSPOT               2159\n",
       "PARTY BUNTING                         1727\n",
       "LUNCH BAG RED RETROSPOT               1638\n",
       "                                      ... \n",
       "PINK FEATHER CHRISTMAS DECORATION        1\n",
       "SET 10 CARDS SNOWY ROBIN 17099           1\n",
       "FUNKY MONKEY MUG                         1\n",
       "mix up with c                            1\n",
       "wrongly coded 23343                      1\n",
       "Name: Description, Length: 4223, dtype: int64"
      ]
     },
     "execution_count": 51,
     "metadata": {},
     "output_type": "execute_result"
    }
   ],
   "source": [
    "# смотрим топ уникальных товаров и кол-во по датасету\n",
    "df['Description'].value_counts()"
   ]
  },
  {
   "cell_type": "markdown",
   "metadata": {},
   "source": [
    "## Работа с данными"
   ]
  },
  {
   "cell_type": "code",
   "execution_count": 90,
   "metadata": {},
   "outputs": [],
   "source": [
    "# перезаписываем датасет, что бы к оригиналу можно было быстро обратиться\n",
    "df_1 = df"
   ]
  },
  {
   "cell_type": "code",
   "execution_count": 91,
   "metadata": {},
   "outputs": [],
   "source": [
    "# удаляем строчки где цена или количесвто меньше 0\n",
    "df_1 = df_1[df_1.UnitPrice > 0]\n",
    "df_1 = df_1[df_1.Quantity > 0]"
   ]
  },
  {
   "cell_type": "code",
   "execution_count": 92,
   "metadata": {},
   "outputs": [],
   "source": [
    "df_1['Invoice_dt'] = pd.to_datetime(df_1[\"InvoiceDate\"])"
   ]
  },
  {
   "cell_type": "code",
   "execution_count": 93,
   "metadata": {},
   "outputs": [
    {
     "name": "stdout",
     "output_type": "stream",
     "text": [
      "2010-12-01 08:26:00\n",
      "2011-12-09 12:50:00\n"
     ]
    }
   ],
   "source": [
    "# смотрим мин и макс даты\n",
    "print(df_1['Invoice_dt'].min())\n",
    "print(df_1['Invoice_dt'].max())"
   ]
  },
  {
   "cell_type": "code",
   "execution_count": 94,
   "metadata": {},
   "outputs": [
    {
     "data": {
      "text/plain": [
       "0"
      ]
     },
     "execution_count": 94,
     "metadata": {},
     "output_type": "execute_result"
    }
   ],
   "source": [
    "# принудительно меняем null в CustomerID на 99999\n",
    "df_1 = df_1.fillna({\"CustomerID\":99999})\n",
    "df_1.CustomerID.isna().sum()"
   ]
  },
  {
   "cell_type": "code",
   "execution_count": 101,
   "metadata": {},
   "outputs": [],
   "source": [
    "# добавляем фичи для анализа (месяц, квартал, номер недели, номер часа в сутках, стоимость сделки)\n",
    "df_1['Invoice_dt'] = df_1['Invoice_dt'].dt.strftime('%Y-%m-%d')\n",
    "df_1['Invoice_dt'] = pd.to_datetime(df_1[\"Invoice_dt\"])\n",
    "df_1['year'] = df_1['Invoice_dt'].dt.strftime('%Y')\n",
    "df_1['month'] = df_1['Invoice_dt'].dt.strftime('%m')\n",
    "df_1['y_m'] = df_1['Invoice_dt'].dt.strftime('%Y-%m')\n",
    "df_1['quarter'] = df_1['Invoice_dt'].dt.to_period('Q')\n",
    "df_1['weekday_num'] = df_1['Invoice_dt'].dt.strftime('%A')\n",
    "df_1['hours'] = pd.to_datetime(df_1[\"InvoiceDate\"]).dt.strftime('%H')\n",
    "df_1['revenue'] = df_1.UnitPrice * df_1.Quantity"
   ]
  },
  {
   "cell_type": "code",
   "execution_count": 102,
   "metadata": {},
   "outputs": [
    {
     "data": {
      "text/plain": [
       "10666684.544"
      ]
     },
     "execution_count": 102,
     "metadata": {},
     "output_type": "execute_result"
    }
   ],
   "source": [
    "df_1['revenue'].sum()"
   ]
  },
  {
   "cell_type": "code",
   "execution_count": 65,
   "metadata": {},
   "outputs": [
    {
     "data": {
      "text/html": [
       "<div>\n",
       "<style scoped>\n",
       "    .dataframe tbody tr th:only-of-type {\n",
       "        vertical-align: middle;\n",
       "    }\n",
       "\n",
       "    .dataframe tbody tr th {\n",
       "        vertical-align: top;\n",
       "    }\n",
       "\n",
       "    .dataframe thead th {\n",
       "        text-align: right;\n",
       "    }\n",
       "</style>\n",
       "<table border=\"1\" class=\"dataframe\">\n",
       "  <thead>\n",
       "    <tr style=\"text-align: right;\">\n",
       "      <th></th>\n",
       "      <th>CustomerID</th>\n",
       "      <th>revenue</th>\n",
       "      <th>orders</th>\n",
       "      <th>rev_25</th>\n",
       "      <th>rev_75</th>\n",
       "      <th>ord_25</th>\n",
       "      <th>ord_75</th>\n",
       "    </tr>\n",
       "  </thead>\n",
       "  <tbody>\n",
       "    <tr>\n",
       "      <th>0</th>\n",
       "      <td>12346.0</td>\n",
       "      <td>77183.60</td>\n",
       "      <td>1</td>\n",
       "      <td>307.43</td>\n",
       "      <td>1662.06</td>\n",
       "      <td>1.0</td>\n",
       "      <td>5.0</td>\n",
       "    </tr>\n",
       "    <tr>\n",
       "      <th>1</th>\n",
       "      <td>12347.0</td>\n",
       "      <td>4310.00</td>\n",
       "      <td>7</td>\n",
       "      <td>307.43</td>\n",
       "      <td>1662.06</td>\n",
       "      <td>1.0</td>\n",
       "      <td>5.0</td>\n",
       "    </tr>\n",
       "    <tr>\n",
       "      <th>2</th>\n",
       "      <td>12348.0</td>\n",
       "      <td>1797.24</td>\n",
       "      <td>4</td>\n",
       "      <td>307.43</td>\n",
       "      <td>1662.06</td>\n",
       "      <td>1.0</td>\n",
       "      <td>5.0</td>\n",
       "    </tr>\n",
       "    <tr>\n",
       "      <th>3</th>\n",
       "      <td>12349.0</td>\n",
       "      <td>1757.55</td>\n",
       "      <td>1</td>\n",
       "      <td>307.43</td>\n",
       "      <td>1662.06</td>\n",
       "      <td>1.0</td>\n",
       "      <td>5.0</td>\n",
       "    </tr>\n",
       "    <tr>\n",
       "      <th>4</th>\n",
       "      <td>12350.0</td>\n",
       "      <td>334.40</td>\n",
       "      <td>1</td>\n",
       "      <td>307.43</td>\n",
       "      <td>1662.06</td>\n",
       "      <td>1.0</td>\n",
       "      <td>5.0</td>\n",
       "    </tr>\n",
       "  </tbody>\n",
       "</table>\n",
       "</div>"
      ],
      "text/plain": [
       "   CustomerID   revenue  orders  rev_25   rev_75  ord_25  ord_75\n",
       "0     12346.0  77183.60       1  307.43  1662.06     1.0     5.0\n",
       "1     12347.0   4310.00       7  307.43  1662.06     1.0     5.0\n",
       "2     12348.0   1797.24       4  307.43  1662.06     1.0     5.0\n",
       "3     12349.0   1757.55       1  307.43  1662.06     1.0     5.0\n",
       "4     12350.0    334.40       1  307.43  1662.06     1.0     5.0"
      ]
     },
     "execution_count": 65,
     "metadata": {},
     "output_type": "execute_result"
    }
   ],
   "source": [
    "# считаем 25 и 75 квантили по выручке и по кол-ву заказов для распределения по группам\n",
    "revenue_1 = df_1.groupby('CustomerID')['revenue'].sum()\n",
    "revenue_1 = pd.DataFrame(revenue_1).reset_index()\n",
    "rev_25, rev_75 = revenue_1['revenue'].quantile([0.25,0.75])\n",
    "\n",
    "order_1 = df_1.drop_duplicates(subset=['InvoiceNo']).groupby('CustomerID')['InvoiceNo'].count()\n",
    "order_1 = pd.DataFrame(order_1).reset_index()\n",
    "ord_25, ord_75 = order_1['InvoiceNo'].quantile([0.25,0.75])\n",
    "\n",
    "df_cust = df_1.groupby(['CustomerID'], as_index=False)\\\n",
    "                .agg({'revenue':'sum', 'InvoiceNo':'nunique'})\\\n",
    "                .rename(columns = {'InvoiceNo':'orders'})\n",
    "\n",
    "df_cust['rev_25'] = rev_25\n",
    "df_cust['rev_75'] = rev_75\n",
    "df_cust['ord_25'] = ord_25\n",
    "df_cust['ord_75'] = ord_75\n",
    "\n",
    "# итоговая таблица для анализа по клиентам\n",
    "df_cust.head()"
   ]
  },
  {
   "cell_type": "code",
   "execution_count": 63,
   "metadata": {},
   "outputs": [
    {
     "data": {
      "text/html": [
       "<div>\n",
       "<style scoped>\n",
       "    .dataframe tbody tr th:only-of-type {\n",
       "        vertical-align: middle;\n",
       "    }\n",
       "\n",
       "    .dataframe tbody tr th {\n",
       "        vertical-align: top;\n",
       "    }\n",
       "\n",
       "    .dataframe thead th {\n",
       "        text-align: right;\n",
       "    }\n",
       "</style>\n",
       "<table border=\"1\" class=\"dataframe\">\n",
       "  <thead>\n",
       "    <tr style=\"text-align: right;\">\n",
       "      <th></th>\n",
       "      <th>Country</th>\n",
       "      <th>CustomerID</th>\n",
       "      <th>Invoice_dt</th>\n",
       "      <th>month</th>\n",
       "      <th>y_m</th>\n",
       "      <th>quarter</th>\n",
       "      <th>weekday_num</th>\n",
       "      <th>hours</th>\n",
       "      <th>revenue</th>\n",
       "      <th>qty</th>\n",
       "      <th>orders</th>\n",
       "      <th>producs</th>\n",
       "    </tr>\n",
       "  </thead>\n",
       "  <tbody>\n",
       "    <tr>\n",
       "      <th>0</th>\n",
       "      <td>Australia</td>\n",
       "      <td>12386.0</td>\n",
       "      <td>2010-12-08</td>\n",
       "      <td>12</td>\n",
       "      <td>2010-12</td>\n",
       "      <td>2010Q4</td>\n",
       "      <td>Wednesday</td>\n",
       "      <td>09</td>\n",
       "      <td>258.90</td>\n",
       "      <td>214</td>\n",
       "      <td>1</td>\n",
       "      <td>8</td>\n",
       "    </tr>\n",
       "    <tr>\n",
       "      <th>1</th>\n",
       "      <td>Australia</td>\n",
       "      <td>12386.0</td>\n",
       "      <td>2011-01-06</td>\n",
       "      <td>01</td>\n",
       "      <td>2011-01</td>\n",
       "      <td>2011Q1</td>\n",
       "      <td>Thursday</td>\n",
       "      <td>12</td>\n",
       "      <td>143.00</td>\n",
       "      <td>140</td>\n",
       "      <td>1</td>\n",
       "      <td>2</td>\n",
       "    </tr>\n",
       "    <tr>\n",
       "      <th>2</th>\n",
       "      <td>Australia</td>\n",
       "      <td>12388.0</td>\n",
       "      <td>2011-01-17</td>\n",
       "      <td>01</td>\n",
       "      <td>2011-01</td>\n",
       "      <td>2011Q1</td>\n",
       "      <td>Monday</td>\n",
       "      <td>11</td>\n",
       "      <td>431.30</td>\n",
       "      <td>204</td>\n",
       "      <td>1</td>\n",
       "      <td>19</td>\n",
       "    </tr>\n",
       "    <tr>\n",
       "      <th>3</th>\n",
       "      <td>Australia</td>\n",
       "      <td>12388.0</td>\n",
       "      <td>2011-02-07</td>\n",
       "      <td>02</td>\n",
       "      <td>2011-02</td>\n",
       "      <td>2011Q1</td>\n",
       "      <td>Monday</td>\n",
       "      <td>13</td>\n",
       "      <td>124.05</td>\n",
       "      <td>37</td>\n",
       "      <td>1</td>\n",
       "      <td>6</td>\n",
       "    </tr>\n",
       "    <tr>\n",
       "      <th>4</th>\n",
       "      <td>Australia</td>\n",
       "      <td>12388.0</td>\n",
       "      <td>2011-03-09</td>\n",
       "      <td>03</td>\n",
       "      <td>2011-03</td>\n",
       "      <td>2011Q1</td>\n",
       "      <td>Wednesday</td>\n",
       "      <td>15</td>\n",
       "      <td>210.90</td>\n",
       "      <td>90</td>\n",
       "      <td>1</td>\n",
       "      <td>10</td>\n",
       "    </tr>\n",
       "  </tbody>\n",
       "</table>\n",
       "</div>"
      ],
      "text/plain": [
       "     Country  CustomerID Invoice_dt month      y_m quarter weekday_num hours  \\\n",
       "0  Australia     12386.0 2010-12-08    12  2010-12  2010Q4   Wednesday    09   \n",
       "1  Australia     12386.0 2011-01-06    01  2011-01  2011Q1    Thursday    12   \n",
       "2  Australia     12388.0 2011-01-17    01  2011-01  2011Q1      Monday    11   \n",
       "3  Australia     12388.0 2011-02-07    02  2011-02  2011Q1      Monday    13   \n",
       "4  Australia     12388.0 2011-03-09    03  2011-03  2011Q1   Wednesday    15   \n",
       "\n",
       "   revenue  qty  orders  producs  \n",
       "0   258.90  214       1        8  \n",
       "1   143.00  140       1        2  \n",
       "2   431.30  204       1       19  \n",
       "3   124.05   37       1        6  \n",
       "4   210.90   90       1       10  "
      ]
     },
     "execution_count": 63,
     "metadata": {},
     "output_type": "execute_result"
    }
   ],
   "source": [
    "df_tbl = df_1.groupby(['Country', 'CustomerID', 'Invoice_dt', 'month', 'y_m', 'quarter', 'weekday_num', 'hours'], as_index=False)\\\n",
    "    .agg({'revenue':'sum', 'Quantity':'sum', 'InvoiceNo':'nunique', 'StockCode':'count'})\\\n",
    "    .rename(columns = {'InvoiceNo':'orders', 'Quantity':'qty', 'StockCode':'producs'})\n",
    "\n",
    "# итоговая таблица для общего мониторинга\n",
    "df_tbl.head()"
   ]
  },
  {
   "cell_type": "code",
   "execution_count": 66,
   "metadata": {},
   "outputs": [],
   "source": [
    "# Создаем файл\n",
    "writer = pd.ExcelWriter('df_on_sheets.xlsx', engine='xlsxwriter')\n",
    "# Записываем на листы\n",
    "df_tbl.to_excel(writer, sheet_name='df_tbl', index=False)\n",
    "df_cust.to_excel(writer, sheet_name='df_cust', index=False)\n",
    "# Сохраняем и закрвыаем \n",
    "writer.save()"
   ]
  }
 ],
 "metadata": {
  "kernelspec": {
   "display_name": "Python 3",
   "language": "python",
   "name": "python3"
  },
  "language_info": {
   "codemirror_mode": {
    "name": "ipython",
    "version": 3
   },
   "file_extension": ".py",
   "mimetype": "text/x-python",
   "name": "python",
   "nbconvert_exporter": "python",
   "pygments_lexer": "ipython3",
   "version": "3.8.3"
  }
 },
 "nbformat": 4,
 "nbformat_minor": 4
}

