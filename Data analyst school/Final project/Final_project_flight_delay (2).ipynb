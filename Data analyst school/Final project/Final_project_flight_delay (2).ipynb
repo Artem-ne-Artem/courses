{
 "cells": [
  {
   "cell_type": "markdown",
   "metadata": {},
   "source": [
    "### Задачи:\n",
    "#### Найти аэропорт с минимальной задержкой вылета \n",
    "#### Самая пунктуальная авиакомпания на прилет в Los Angeles International Airport\n",
    "#### Аэропорт с самой большой долей руления на 1 самолетовылет\n",
    "#### Построить модель которая будет выбирать топ 3 аэропорта прилета (вероятность опоздания минимальная – RMSE метрика),  в зависимости от аэропорта вылета \n",
    "\n",
    "#### Данные - https://www.kaggle.com/usdot/flight-delays\n",
    "#### Описание - Сводная информация о количестве своевременных, задержанных, отмененных и измененных рейсов в США за 2015 год (5.8 млн записей)"
   ]
  },
  {
   "cell_type": "markdown",
   "metadata": {},
   "source": [
    "Бюро транспортной статистики Министерства транспорта США (DOT) отслеживает своевременность внутренних рейсов,\n",
    "выполняемых крупными авиаперевозчиками. Сводная информация о количестве своевременных, задержанных, отмененных и измененных\n",
    "рейсов публикуется в ежемесячном отчете DOT о пассажирских авиаперевозках и в этом наборе данных о задержках и отменах\n",
    "рейсов за 2015 год."
   ]
  },
  {
   "cell_type": "code",
   "execution_count": 3,
   "metadata": {},
   "outputs": [
    {
     "name": "stdout",
     "output_type": "stream",
     "text": [
      "Wall time: 0 ns\n"
     ]
    }
   ],
   "source": [
    "%%time\n",
    "import pandas as pd\n",
    "import math\n",
    "import numpy as np\n",
    "import matplotlib.pyplot as plt\n",
    "import seaborn as sns\n",
    "import datetime as dt\n",
    "\n",
    "from math import sqrt\n",
    "from sklearn.model_selection import train_test_split\n",
    "from sklearn.metrics import mean_squared_error\n",
    "from sklearn.linear_model import LinearRegression"
   ]
  },
  {
   "cell_type": "code",
   "execution_count": 7,
   "metadata": {},
   "outputs": [
    {
     "name": "stdout",
     "output_type": "stream",
     "text": [
      "Wall time: 12.3 s\n"
     ]
    }
   ],
   "source": [
    "%%time\n",
    "airlines = pd.read_csv('airlines.csv')\n",
    "airports = pd.read_csv('airports.csv')\n",
    "flights = pd.read_csv('flights.csv', dtype={'ORIGIN_AIRPORT': str,'DESTINATION_AIRPORT': str})"
   ]
  },
  {
   "cell_type": "markdown",
   "metadata": {},
   "source": [
    "В таблице Flights поля ORIGIN_AIRPORT и DESTINATION_AIRPORT содержат много строк вместо 3-значных буквенно-цифровых кодов IATA, 5-значные числа от 10125 до 16218 которых нет справочнике Airports Для решения это проблемы  был найден справочник с числовыми кодами https://www.kaggle.com/smiller933/bts?select=L_AIRPORT_ID.csv"
   ]
  },
  {
   "cell_type": "code",
   "execution_count": 8,
   "metadata": {},
   "outputs": [
    {
     "name": "stdout",
     "output_type": "stream",
     "text": [
      "Wall time: 64.4 ms\n"
     ]
    }
   ],
   "source": [
    "%%time\n",
    "L_AIRPORT_ID = pd.read_csv('L_AIRPORT_ID.csv')\n",
    "L_AIRPORT = pd.read_csv('L_AIRPORT.csv')"
   ]
  },
  {
   "cell_type": "markdown",
   "metadata": {},
   "source": [
    "### Оценка качества данных"
   ]
  },
  {
   "cell_type": "markdown",
   "metadata": {},
   "source": [
    "### 1. Airlines"
   ]
  },
  {
   "cell_type": "code",
   "execution_count": 9,
   "metadata": {},
   "outputs": [
    {
     "name": "stdout",
     "output_type": "stream",
     "text": [
      "<class 'pandas.core.frame.DataFrame'>\n",
      "RangeIndex: 14 entries, 0 to 13\n",
      "Data columns (total 2 columns):\n",
      " #   Column     Non-Null Count  Dtype \n",
      "---  ------     --------------  ----- \n",
      " 0   IATA_CODE  14 non-null     object\n",
      " 1   AIRLINE    14 non-null     object\n",
      "dtypes: object(2)\n",
      "memory usage: 352.0+ bytes\n"
     ]
    }
   ],
   "source": [
    "airlines.info()"
   ]
  },
  {
   "cell_type": "code",
   "execution_count": 10,
   "metadata": {},
   "outputs": [
    {
     "data": {
      "text/plain": [
       "0"
      ]
     },
     "execution_count": 10,
     "metadata": {},
     "output_type": "execute_result"
    }
   ],
   "source": [
    "airlines.duplicated().sum()"
   ]
  },
  {
   "cell_type": "markdown",
   "metadata": {},
   "source": [
    "### 2. Airports"
   ]
  },
  {
   "cell_type": "code",
   "execution_count": 11,
   "metadata": {},
   "outputs": [
    {
     "name": "stdout",
     "output_type": "stream",
     "text": [
      "<class 'pandas.core.frame.DataFrame'>\n",
      "RangeIndex: 322 entries, 0 to 321\n",
      "Data columns (total 7 columns):\n",
      " #   Column     Non-Null Count  Dtype  \n",
      "---  ------     --------------  -----  \n",
      " 0   IATA_CODE  322 non-null    object \n",
      " 1   AIRPORT    322 non-null    object \n",
      " 2   CITY       322 non-null    object \n",
      " 3   STATE      322 non-null    object \n",
      " 4   COUNTRY    322 non-null    object \n",
      " 5   LATITUDE   319 non-null    float64\n",
      " 6   LONGITUDE  319 non-null    float64\n",
      "dtypes: float64(2), object(5)\n",
      "memory usage: 17.7+ KB\n"
     ]
    }
   ],
   "source": [
    "airports.info()"
   ]
  },
  {
   "cell_type": "code",
   "execution_count": 12,
   "metadata": {},
   "outputs": [
    {
     "data": {
      "text/plain": [
       "0"
      ]
     },
     "execution_count": 12,
     "metadata": {},
     "output_type": "execute_result"
    }
   ],
   "source": [
    "airports.duplicated().sum()"
   ]
  },
  {
   "cell_type": "code",
   "execution_count": 13,
   "metadata": {},
   "outputs": [
    {
     "data": {
      "text/html": [
       "<div>\n",
       "<style scoped>\n",
       "    .dataframe tbody tr th:only-of-type {\n",
       "        vertical-align: middle;\n",
       "    }\n",
       "\n",
       "    .dataframe tbody tr th {\n",
       "        vertical-align: top;\n",
       "    }\n",
       "\n",
       "    .dataframe thead th {\n",
       "        text-align: right;\n",
       "    }\n",
       "</style>\n",
       "<table border=\"1\" class=\"dataframe\">\n",
       "  <thead>\n",
       "    <tr style=\"text-align: right;\">\n",
       "      <th></th>\n",
       "      <th>IATA_CODE</th>\n",
       "      <th>AIRPORT</th>\n",
       "      <th>CITY</th>\n",
       "      <th>STATE</th>\n",
       "      <th>COUNTRY</th>\n",
       "      <th>LATITUDE</th>\n",
       "      <th>LONGITUDE</th>\n",
       "    </tr>\n",
       "  </thead>\n",
       "  <tbody>\n",
       "    <tr>\n",
       "      <th>96</th>\n",
       "      <td>ECP</td>\n",
       "      <td>Northwest Florida Beaches International Airport</td>\n",
       "      <td>Panama City</td>\n",
       "      <td>FL</td>\n",
       "      <td>USA</td>\n",
       "      <td>NaN</td>\n",
       "      <td>NaN</td>\n",
       "    </tr>\n",
       "    <tr>\n",
       "      <th>234</th>\n",
       "      <td>PBG</td>\n",
       "      <td>Plattsburgh International Airport</td>\n",
       "      <td>Plattsburgh</td>\n",
       "      <td>NY</td>\n",
       "      <td>USA</td>\n",
       "      <td>NaN</td>\n",
       "      <td>NaN</td>\n",
       "    </tr>\n",
       "    <tr>\n",
       "      <th>313</th>\n",
       "      <td>UST</td>\n",
       "      <td>Northeast Florida Regional Airport (St. August...</td>\n",
       "      <td>St. Augustine</td>\n",
       "      <td>FL</td>\n",
       "      <td>USA</td>\n",
       "      <td>NaN</td>\n",
       "      <td>NaN</td>\n",
       "    </tr>\n",
       "  </tbody>\n",
       "</table>\n",
       "</div>"
      ],
      "text/plain": [
       "    IATA_CODE                                            AIRPORT  \\\n",
       "96        ECP    Northwest Florida Beaches International Airport   \n",
       "234       PBG                  Plattsburgh International Airport   \n",
       "313       UST  Northeast Florida Regional Airport (St. August...   \n",
       "\n",
       "              CITY STATE COUNTRY  LATITUDE  LONGITUDE  \n",
       "96     Panama City    FL     USA       NaN        NaN  \n",
       "234    Plattsburgh    NY     USA       NaN        NaN  \n",
       "313  St. Augustine    FL     USA       NaN        NaN  "
      ]
     },
     "execution_count": 13,
     "metadata": {},
     "output_type": "execute_result"
    }
   ],
   "source": [
    "airports[airports.LATITUDE.isnull()]"
   ]
  },
  {
   "cell_type": "markdown",
   "metadata": {},
   "source": [
    "### 3. Flights"
   ]
  },
  {
   "cell_type": "code",
   "execution_count": 14,
   "metadata": {
    "scrolled": true
   },
   "outputs": [
    {
     "name": "stdout",
     "output_type": "stream",
     "text": [
      "<class 'pandas.core.frame.DataFrame'>\n",
      "RangeIndex: 5819079 entries, 0 to 5819078\n",
      "Data columns (total 31 columns):\n",
      " #   Column               Dtype  \n",
      "---  ------               -----  \n",
      " 0   YEAR                 int64  \n",
      " 1   MONTH                int64  \n",
      " 2   DAY                  int64  \n",
      " 3   DAY_OF_WEEK          int64  \n",
      " 4   AIRLINE              object \n",
      " 5   FLIGHT_NUMBER        int64  \n",
      " 6   TAIL_NUMBER          object \n",
      " 7   ORIGIN_AIRPORT       object \n",
      " 8   DESTINATION_AIRPORT  object \n",
      " 9   SCHEDULED_DEPARTURE  int64  \n",
      " 10  DEPARTURE_TIME       float64\n",
      " 11  DEPARTURE_DELAY      float64\n",
      " 12  TAXI_OUT             float64\n",
      " 13  WHEELS_OFF           float64\n",
      " 14  SCHEDULED_TIME       float64\n",
      " 15  ELAPSED_TIME         float64\n",
      " 16  AIR_TIME             float64\n",
      " 17  DISTANCE             int64  \n",
      " 18  WHEELS_ON            float64\n",
      " 19  TAXI_IN              float64\n",
      " 20  SCHEDULED_ARRIVAL    int64  \n",
      " 21  ARRIVAL_TIME         float64\n",
      " 22  ARRIVAL_DELAY        float64\n",
      " 23  DIVERTED             int64  \n",
      " 24  CANCELLED            int64  \n",
      " 25  CANCELLATION_REASON  object \n",
      " 26  AIR_SYSTEM_DELAY     float64\n",
      " 27  SECURITY_DELAY       float64\n",
      " 28  AIRLINE_DELAY        float64\n",
      " 29  LATE_AIRCRAFT_DELAY  float64\n",
      " 30  WEATHER_DELAY        float64\n",
      "dtypes: float64(16), int64(10), object(5)\n",
      "memory usage: 1.3+ GB\n"
     ]
    }
   ],
   "source": [
    "flights.info()"
   ]
  },
  {
   "cell_type": "code",
   "execution_count": 18,
   "metadata": {},
   "outputs": [
    {
     "data": {
      "text/plain": [
       "array([2015], dtype=int64)"
      ]
     },
     "execution_count": 18,
     "metadata": {},
     "output_type": "execute_result"
    }
   ],
   "source": [
    "flights.YEAR.unique()"
   ]
  },
  {
   "cell_type": "code",
   "execution_count": 19,
   "metadata": {},
   "outputs": [
    {
     "data": {
      "text/plain": [
       "0    5803892\n",
       "1      15187\n",
       "Name: DIVERTED, dtype: int64"
      ]
     },
     "execution_count": 19,
     "metadata": {},
     "output_type": "execute_result"
    }
   ],
   "source": [
    "flights.DIVERTED.value_counts()"
   ]
  },
  {
   "cell_type": "code",
   "execution_count": 20,
   "metadata": {},
   "outputs": [
    {
     "data": {
      "text/plain": [
       "0    5729195\n",
       "1      89884\n",
       "Name: CANCELLED, dtype: int64"
      ]
     },
     "execution_count": 20,
     "metadata": {},
     "output_type": "execute_result"
    }
   ],
   "source": [
    "flights.CANCELLED.value_counts()"
   ]
  },
  {
   "cell_type": "code",
   "execution_count": 21,
   "metadata": {},
   "outputs": [
    {
     "data": {
      "text/plain": [
       "0"
      ]
     },
     "execution_count": 21,
     "metadata": {},
     "output_type": "execute_result"
    }
   ],
   "source": [
    "flights.duplicated().sum()"
   ]
  },
  {
   "cell_type": "code",
   "execution_count": 22,
   "metadata": {
    "scrolled": true
   },
   "outputs": [
    {
     "name": "stdout",
     "output_type": "stream",
     "text": [
      "YEAR 0.0\n",
      "MONTH 0.0\n",
      "DAY 0.0\n",
      "DAY_OF_WEEK 0.0\n",
      "AIRLINE 0.0\n",
      "FLIGHT_NUMBER 0.0\n",
      "TAIL_NUMBER 0.25\n",
      "ORIGIN_AIRPORT 0.0\n",
      "DESTINATION_AIRPORT 0.0\n",
      "SCHEDULED_DEPARTURE 0.0\n",
      "DEPARTURE_TIME 1.48\n",
      "DEPARTURE_DELAY 1.48\n",
      "TAXI_OUT 1.53\n",
      "WHEELS_OFF 1.53\n",
      "SCHEDULED_TIME 0.0\n",
      "ELAPSED_TIME 1.81\n",
      "AIR_TIME 1.81\n",
      "DISTANCE 0.0\n",
      "WHEELS_ON 1.59\n",
      "TAXI_IN 1.59\n",
      "SCHEDULED_ARRIVAL 0.0\n",
      "ARRIVAL_TIME 1.59\n",
      "ARRIVAL_DELAY 1.81\n",
      "DIVERTED 0.0\n",
      "CANCELLED 0.0\n",
      "CANCELLATION_REASON 98.46\n",
      "AIR_SYSTEM_DELAY 81.72\n",
      "SECURITY_DELAY 81.72\n",
      "AIRLINE_DELAY 81.72\n",
      "LATE_AIRCRAFT_DELAY 81.72\n",
      "WEATHER_DELAY 81.72\n"
     ]
    }
   ],
   "source": [
    "for col in flights.columns:\n",
    "  print(col, round(flights[col].isna().sum() / flights.shape[0] *100,2))"
   ]
  },
  {
   "cell_type": "markdown",
   "metadata": {},
   "source": [
    "### Резюме по анализу качества данных\n",
    "    Справочник airlines (id и названия авиакомпаний) пропусков нет, дублей нет.\n",
    "    Справочник airports (id название, город, штат, координаты) дублей нет, есть 3 null в полях LATITUDE, LONGITUDE, это не  критично.\n",
    "    Перенаправленные рейсы (DIVERTED) - 15'187; Отмененные рейсы (CANCELLED) - 89'884.\n",
    "    Таблица flights дублей нет, есть null: CANCELLATION_REASON 98.46 %; AIR_SYSTEM_DELAY 81.72 %; SECURITY_DELAY 81.72 %; AIRLINE_DELAY 81.72 %; LATE_AIRCRAFT_DELAY 81.72 %; WEATHER_DELAY 81.72 %. Большая часть из-за отмененных и отклоненных рейсов."
   ]
  },
  {
   "cell_type": "markdown",
   "metadata": {},
   "source": [
    "### Собираем dataset"
   ]
  },
  {
   "cell_type": "markdown",
   "metadata": {},
   "source": [
    "В справочниках с цифровыми кодами есть дубли, на одно название аэропорта - несколько кодов. Мы не можем определить какая кодировка корректная, а какая нет. Принято решение удалять все аэропорты которые встречаются больше 1-го раза (по полю Description)."
   ]
  },
  {
   "cell_type": "code",
   "execution_count": 23,
   "metadata": {},
   "outputs": [
    {
     "name": "stdout",
     "output_type": "stream",
     "text": [
      "Wall time: 187 ms\n"
     ]
    }
   ],
   "source": [
    "%%time\n",
    "L_AIRPORT_copy = L_AIRPORT.copy()\n",
    "L_AIRPORT_ID_copy = L_AIRPORT_ID.copy()\n",
    "\n",
    "L_AIRPORT_copy['RN'] = L_AIRPORT_copy.sort_values(['Description'], ascending=False).groupby(['Description']).cumcount() + 1\n",
    "L_AIRPORT_copy = L_AIRPORT_copy.query(\"RN == 1\")\n",
    "L_AIRPORT_copy = L_AIRPORT_copy.drop(columns=['RN'])\n",
    "\n",
    "L_AIRPORT_ID_copy['RN'] = L_AIRPORT_ID_copy.sort_values(['Description'], ascending=False).groupby(['Description']).cumcount() + 1\n",
    "L_AIRPORT_ID_copy = L_AIRPORT_ID_copy.query(\"RN == 1\")\n",
    "L_AIRPORT_ID_copy = L_AIRPORT_ID_copy.drop(columns=['RN'])"
   ]
  },
  {
   "cell_type": "markdown",
   "metadata": {},
   "source": [
    "Альтернативные справочники собираем единую таблицу. По полю \"code_number\" меням тип int64 на str для join с таблицей flights."
   ]
  },
  {
   "cell_type": "code",
   "execution_count": 24,
   "metadata": {},
   "outputs": [
    {
     "name": "stdout",
     "output_type": "stream",
     "text": [
      "Wall time: 29 ms\n"
     ]
    }
   ],
   "source": [
    "%%time\n",
    "L_AIRPORT_tbl = L_AIRPORT_copy.merge(L_AIRPORT_ID_copy, how = 'inner', left_on = 'Description', right_on='Description', suffixes=('_text', '_number'))\n",
    "L_AIRPORT_tbl['Code_number_2'] = L_AIRPORT_tbl['Code_number'].astype(str)"
   ]
  },
  {
   "cell_type": "markdown",
   "metadata": {},
   "source": [
    "Начинаем собирать итоговую таблицу \"tbl\".\n",
    "Преобразовываем числовой код в текстовый.\n",
    "Добавляем кодировки из альтернативного справочника L_AIRPORT_tbl.\n",
    "Создаем 3-е поле с кодировкой аэропортов по условию. В итоге мы должны полностью избавится от числовых кодов."
   ]
  },
  {
   "cell_type": "code",
   "execution_count": 25,
   "metadata": {},
   "outputs": [
    {
     "name": "stdout",
     "output_type": "stream",
     "text": [
      "Wall time: 14.3 s\n"
     ]
    }
   ],
   "source": [
    "%%time \n",
    "tbl = flights.merge(L_AIRPORT_tbl, how = 'left', left_on = 'ORIGIN_AIRPORT', right_on='Code_number_2')\n",
    "tbl = tbl.merge(L_AIRPORT_tbl, how = 'left', left_on = 'DESTINATION_AIRPORT', right_on='Code_number_2', suffixes=('_orign', '_dest'))"
   ]
  },
  {
   "cell_type": "markdown",
   "metadata": {},
   "source": [
    "Создаем 3-е поле с кодировкой аэропортов по условию. В итоге мы должны полностью избавится от числовых кодов."
   ]
  },
  {
   "cell_type": "code",
   "execution_count": 26,
   "metadata": {},
   "outputs": [
    {
     "name": "stdout",
     "output_type": "stream",
     "text": [
      "Wall time: 6.66 s\n"
     ]
    }
   ],
   "source": [
    "%%time\n",
    "tbl['Code_text_orign_1'] = np.where(tbl['Code_text_orign'].isnull(), tbl['ORIGIN_AIRPORT'], tbl['Code_text_orign'])\n",
    "tbl['Code_text_dest_1'] = np.where(tbl['Code_text_dest'].isnull(), tbl['DESTINATION_AIRPORT'], tbl['Code_text_dest'])\n",
    "tbl = tbl.drop(columns=['Code_text_orign', 'Code_number_orign', 'Code_number_2_orign', 'Code_text_dest', 'Code_number_dest', 'Code_number_2_dest'])"
   ]
  },
  {
   "cell_type": "markdown",
   "metadata": {},
   "source": [
    "Смотрим что бы первоначальное кол-во строк не менялось."
   ]
  },
  {
   "cell_type": "code",
   "execution_count": 27,
   "metadata": {
    "scrolled": true
   },
   "outputs": [
    {
     "name": "stdout",
     "output_type": "stream",
     "text": [
      "(5819079, 31)\n",
      "(5819079, 35)\n",
      "Wall time: 2 ms\n"
     ]
    }
   ],
   "source": [
    "%%time\n",
    "print(flights.shape)\n",
    "print(tbl.shape)"
   ]
  },
  {
   "cell_type": "markdown",
   "metadata": {},
   "source": [
    "Проверям остались ли цифровые коды по полю Code_text_orign_1 (код аэропорта прибытия)."
   ]
  },
  {
   "cell_type": "code",
   "execution_count": 28,
   "metadata": {
    "scrolled": true
   },
   "outputs": [
    {
     "name": "stdout",
     "output_type": "stream",
     "text": [
      "Wall time: 159 ms\n"
     ]
    },
    {
     "data": {
      "text/plain": [
       "array(['ANC', 'LAX', 'SFO', 'SEA', 'LAS', 'DEN', 'SLC', 'PDX', 'FAI',\n",
       "       'MSP', 'PHX', 'SJU', 'PBG', 'IAG', 'PSE', 'BQN', 'ORD', 'GEG',\n",
       "       'HNL', 'ONT', 'MCO', 'BOS', 'HIB', 'ABR', 'MAF', 'DFW', 'MKE',\n",
       "       'IAH', 'BNA', 'BRO', 'VPS', 'BOI', 'BJI', 'SGF', 'PHL', 'SBN',\n",
       "       'RDD', 'EUG', 'IAD', 'BUF', 'PWM', 'JFK', 'CRP', 'PIA', 'FAT',\n",
       "       'SMF', 'AUS', 'MCI', 'ATL', 'JAX', 'MFR', 'IDA', 'MSN', 'DCA',\n",
       "       'SAT', 'CHS', 'SBA', 'SMX', 'IND', 'CLE', 'GSP', 'BDL', 'ABI',\n",
       "       'RIC', 'BFL', 'OMA', 'RDM', 'FLL', 'CID', 'TPA', 'SYR', 'ROC',\n",
       "       'TYR', 'LAN', 'XNA', 'GSO', 'EWR', 'PBI', 'RSW', 'OAK', 'PVD',\n",
       "       'RNO', 'PIT', 'ABQ', 'MIA', 'BWI', 'LGA', 'TUL', 'LIT', 'MSY',\n",
       "       'OKC', 'ATW', 'PNS', 'MEM', 'TYS', 'MHT', 'SAV', 'CLT', 'GRB',\n",
       "       'ABE', 'JAN', 'OAJ', 'FAR', 'ERI', 'LEX', 'CWA', 'MSO', 'TTN',\n",
       "       'AMA', 'CLL', 'HOU', 'JLN', 'MLI', 'RDU', 'CVG', 'MHK', 'MOB',\n",
       "       'TLH', 'BHM', 'CAE', 'TXK', 'ACY', 'DTW', 'RAP', 'TUS', 'EAU',\n",
       "       'DLH', 'FSD', 'INL', 'CMX', 'SPI', 'CLD', 'COD', 'CMH', 'LRD',\n",
       "       'PSC', 'CPR', 'ACV', 'DAL', 'PAH', 'MRY', 'ESC', 'ISN', 'PSP',\n",
       "       'MFE', 'STL', 'BTV', 'FSM', 'AEX', 'SPS', 'ACT', 'SJT', 'MTJ',\n",
       "       'GCC', 'OGG', 'SJC', 'GUC', 'ORF', 'MOT', 'MLU', 'KOA', 'SAN',\n",
       "       'LAW', 'PIB', 'MGM', 'SBP', 'COS', 'LAR', 'DRO', 'BIS', 'ITO',\n",
       "       'BTR', 'GRI', 'HLN', 'BZN', 'MDW', 'MDT', 'SCE', 'LIH', 'TWF',\n",
       "       'BPT', 'GPT', 'STC', 'HPN', 'MLB', 'PLN', 'CIU', 'CAK', 'DSM',\n",
       "       'BLI', 'SHV', 'ROW', 'FWA', 'SNA', 'ALB', 'HOB', 'LNK', 'CMI',\n",
       "       'COU', 'GTF', 'EKO', 'LGB', 'AVL', 'HSV', 'SAF', 'GRR', 'SUX',\n",
       "       'LFT', 'HYS', 'ELP', 'DVL', 'ISP', 'BUR', 'DAB', 'DAY', 'GRK',\n",
       "       'GJT', 'BMI', 'LBE', 'ASE', 'RKS', 'GUM', 'TVC', 'ALO', 'IMT',\n",
       "       'LCH', 'JNU', 'JAC', 'MEI', 'DBQ', 'GCK', 'GNV', 'BRD', 'DIK',\n",
       "       'SDF', 'LBB', 'AVP', 'BTM', 'ELM', 'PIH', 'ICT', 'SUN', 'LWS',\n",
       "       'VEL', 'STT', 'YUM', 'FLG', 'FCA', 'HDN', 'JMS', 'ROA', 'CHA',\n",
       "       'EYW', 'MYR', 'CRW', 'MQT', 'CHO', 'ECP', 'EVV', 'EGE', 'MBS',\n",
       "       'GFK', 'TOL', 'BIL', 'OTZ', 'KTN', 'STX', 'ILM', 'PUB', 'RHI',\n",
       "       'CDC', 'HRL', 'SCC', 'FNT', 'LSE', 'MMH', 'APN', 'AGS', 'CEC',\n",
       "       'DHN', 'WRG', 'PHF', 'CNY', 'BRW', 'GGG', 'AZO', 'SRQ', 'ORH',\n",
       "       'TRI', 'VLD', 'SIT', 'BQK', 'PSG', 'FAY', 'MKG', 'CSG', 'EWN',\n",
       "       'OME', 'SGU', 'RST', 'GTR', 'BET', 'ABY', 'SWF', 'ILG', 'ADK',\n",
       "       'UST', 'YAK', 'CDV', 'OTH', 'ADQ', 'PPG', 'BGM', 'BGR', 'ITH',\n",
       "       'ACK', 'MVY', 'WYS', 'DLG', 'AKN', 'GST', 'HYA', '16218'],\n",
       "      dtype=object)"
      ]
     },
     "execution_count": 28,
     "metadata": {},
     "output_type": "execute_result"
    }
   ],
   "source": [
    "%%time\n",
    "tbl.Code_text_orign_1.unique()"
   ]
  },
  {
   "cell_type": "markdown",
   "metadata": {},
   "source": [
    "Остался один числовой код, его можно просто удалить (Code_text_orign_1=177 строк и Code_text_dest_1=177 строк)"
   ]
  },
  {
   "cell_type": "code",
   "execution_count": 29,
   "metadata": {},
   "outputs": [
    {
     "name": "stdout",
     "output_type": "stream",
     "text": [
      "Wall time: 2.99 s\n"
     ]
    }
   ],
   "source": [
    "%%time\n",
    "tbl = tbl[tbl.Code_text_orign_1 != '16218']\n",
    "tbl = tbl[tbl.Code_text_dest_1 != '16218']"
   ]
  },
  {
   "cell_type": "markdown",
   "metadata": {},
   "source": [
    "Повторно проверям остались ли цифровые коды по полю Code_text_orign_1 (код аэропорта прибытия)"
   ]
  },
  {
   "cell_type": "code",
   "execution_count": 30,
   "metadata": {
    "scrolled": true
   },
   "outputs": [
    {
     "name": "stdout",
     "output_type": "stream",
     "text": [
      "Wall time: 154 ms\n"
     ]
    },
    {
     "data": {
      "text/plain": [
       "array(['ANC', 'LAX', 'SFO', 'SEA', 'LAS', 'DEN', 'SLC', 'PDX', 'FAI',\n",
       "       'MSP', 'PHX', 'SJU', 'PBG', 'IAG', 'PSE', 'BQN', 'ORD', 'GEG',\n",
       "       'HNL', 'ONT', 'MCO', 'BOS', 'HIB', 'ABR', 'MAF', 'DFW', 'MKE',\n",
       "       'IAH', 'BNA', 'BRO', 'VPS', 'BOI', 'BJI', 'SGF', 'PHL', 'SBN',\n",
       "       'RDD', 'EUG', 'IAD', 'BUF', 'PWM', 'JFK', 'CRP', 'PIA', 'FAT',\n",
       "       'SMF', 'AUS', 'MCI', 'ATL', 'JAX', 'MFR', 'IDA', 'MSN', 'DCA',\n",
       "       'SAT', 'CHS', 'SBA', 'SMX', 'IND', 'CLE', 'GSP', 'BDL', 'ABI',\n",
       "       'RIC', 'BFL', 'OMA', 'RDM', 'FLL', 'CID', 'TPA', 'SYR', 'ROC',\n",
       "       'TYR', 'LAN', 'XNA', 'GSO', 'EWR', 'PBI', 'RSW', 'OAK', 'PVD',\n",
       "       'RNO', 'PIT', 'ABQ', 'MIA', 'BWI', 'LGA', 'TUL', 'LIT', 'MSY',\n",
       "       'OKC', 'ATW', 'PNS', 'MEM', 'TYS', 'MHT', 'SAV', 'CLT', 'GRB',\n",
       "       'ABE', 'JAN', 'OAJ', 'FAR', 'ERI', 'LEX', 'CWA', 'MSO', 'TTN',\n",
       "       'AMA', 'CLL', 'HOU', 'JLN', 'MLI', 'RDU', 'CVG', 'MHK', 'MOB',\n",
       "       'TLH', 'BHM', 'CAE', 'TXK', 'ACY', 'DTW', 'RAP', 'TUS', 'EAU',\n",
       "       'DLH', 'FSD', 'INL', 'CMX', 'SPI', 'CLD', 'COD', 'CMH', 'LRD',\n",
       "       'PSC', 'CPR', 'ACV', 'DAL', 'PAH', 'MRY', 'ESC', 'ISN', 'PSP',\n",
       "       'MFE', 'STL', 'BTV', 'FSM', 'AEX', 'SPS', 'ACT', 'SJT', 'MTJ',\n",
       "       'GCC', 'OGG', 'SJC', 'GUC', 'ORF', 'MOT', 'MLU', 'KOA', 'SAN',\n",
       "       'LAW', 'PIB', 'MGM', 'SBP', 'COS', 'LAR', 'DRO', 'BIS', 'ITO',\n",
       "       'BTR', 'GRI', 'HLN', 'BZN', 'MDW', 'MDT', 'SCE', 'LIH', 'TWF',\n",
       "       'BPT', 'GPT', 'STC', 'HPN', 'MLB', 'PLN', 'CIU', 'CAK', 'DSM',\n",
       "       'BLI', 'SHV', 'ROW', 'FWA', 'SNA', 'ALB', 'HOB', 'LNK', 'CMI',\n",
       "       'COU', 'GTF', 'EKO', 'LGB', 'AVL', 'HSV', 'SAF', 'GRR', 'SUX',\n",
       "       'LFT', 'HYS', 'ELP', 'DVL', 'ISP', 'BUR', 'DAB', 'DAY', 'GRK',\n",
       "       'GJT', 'BMI', 'LBE', 'ASE', 'RKS', 'GUM', 'TVC', 'ALO', 'IMT',\n",
       "       'LCH', 'JNU', 'JAC', 'MEI', 'DBQ', 'GCK', 'GNV', 'BRD', 'DIK',\n",
       "       'SDF', 'LBB', 'AVP', 'BTM', 'ELM', 'PIH', 'ICT', 'SUN', 'LWS',\n",
       "       'VEL', 'STT', 'YUM', 'FLG', 'FCA', 'HDN', 'JMS', 'ROA', 'CHA',\n",
       "       'EYW', 'MYR', 'CRW', 'MQT', 'CHO', 'ECP', 'EVV', 'EGE', 'MBS',\n",
       "       'GFK', 'TOL', 'BIL', 'OTZ', 'KTN', 'STX', 'ILM', 'PUB', 'RHI',\n",
       "       'CDC', 'HRL', 'SCC', 'FNT', 'LSE', 'MMH', 'APN', 'AGS', 'CEC',\n",
       "       'DHN', 'WRG', 'PHF', 'CNY', 'BRW', 'GGG', 'AZO', 'SRQ', 'ORH',\n",
       "       'TRI', 'VLD', 'SIT', 'BQK', 'PSG', 'FAY', 'MKG', 'CSG', 'EWN',\n",
       "       'OME', 'SGU', 'RST', 'GTR', 'BET', 'ABY', 'SWF', 'ILG', 'ADK',\n",
       "       'UST', 'YAK', 'CDV', 'OTH', 'ADQ', 'PPG', 'BGM', 'BGR', 'ITH',\n",
       "       'ACK', 'MVY', 'WYS', 'DLG', 'AKN', 'GST', 'HYA'], dtype=object)"
      ]
     },
     "execution_count": 30,
     "metadata": {},
     "output_type": "execute_result"
    }
   ],
   "source": [
    "%%time\n",
    "tbl.Code_text_orign_1.unique()"
   ]
  },
  {
   "cell_type": "markdown",
   "metadata": {},
   "source": [
    "К итоговой таблице \"tbl\" подтягиваем названия аэропортов из справочника (airports) и названия авиакомпаний (airlines). Удаляем лишние поля, переименновываем поля. "
   ]
  },
  {
   "cell_type": "code",
   "execution_count": 31,
   "metadata": {
    "scrolled": true
   },
   "outputs": [
    {
     "name": "stdout",
     "output_type": "stream",
     "text": [
      "Wall time: 25.5 s\n"
     ]
    }
   ],
   "source": [
    "%%time\n",
    "tbl = tbl.merge(airports, how = 'left', left_on = 'Code_text_orign_1', right_on='IATA_CODE')\n",
    "tbl = tbl.merge(airports, how = 'left', left_on = 'Code_text_dest_1', right_on='IATA_CODE', suffixes=('_orign', '_dest'))\n",
    "\n",
    "tbl = tbl.merge(airlines, how = 'left', left_on = 'AIRLINE', right_on='IATA_CODE', suffixes=('_left', '_right'))\n",
    "\n",
    "tbl = tbl.drop(columns=['Description_orign' ,'Description_dest' ,'IATA_CODE_orign' ,'IATA_CODE_dest' ,'IATA_CODE'])\n",
    "tbl = tbl.rename (columns = {'AIRLINE_left':'AIRLINE_code', 'AIRLINE_right' : 'AIRLINE_name'})"
   ]
  },
  {
   "cell_type": "code",
   "execution_count": 32,
   "metadata": {
    "scrolled": true
   },
   "outputs": [
    {
     "name": "stdout",
     "output_type": "stream",
     "text": [
      "<class 'pandas.core.frame.DataFrame'>\n",
      "Int64Index: 5818725 entries, 0 to 5818724\n",
      "Data columns (total 46 columns):\n",
      " #   Column               Dtype  \n",
      "---  ------               -----  \n",
      " 0   YEAR                 int64  \n",
      " 1   MONTH                int64  \n",
      " 2   DAY                  int64  \n",
      " 3   DAY_OF_WEEK          int64  \n",
      " 4   AIRLINE_code         object \n",
      " 5   FLIGHT_NUMBER        int64  \n",
      " 6   TAIL_NUMBER          object \n",
      " 7   ORIGIN_AIRPORT       object \n",
      " 8   DESTINATION_AIRPORT  object \n",
      " 9   SCHEDULED_DEPARTURE  int64  \n",
      " 10  DEPARTURE_TIME       float64\n",
      " 11  DEPARTURE_DELAY      float64\n",
      " 12  TAXI_OUT             float64\n",
      " 13  WHEELS_OFF           float64\n",
      " 14  SCHEDULED_TIME       float64\n",
      " 15  ELAPSED_TIME         float64\n",
      " 16  AIR_TIME             float64\n",
      " 17  DISTANCE             int64  \n",
      " 18  WHEELS_ON            float64\n",
      " 19  TAXI_IN              float64\n",
      " 20  SCHEDULED_ARRIVAL    int64  \n",
      " 21  ARRIVAL_TIME         float64\n",
      " 22  ARRIVAL_DELAY        float64\n",
      " 23  DIVERTED             int64  \n",
      " 24  CANCELLED            int64  \n",
      " 25  CANCELLATION_REASON  object \n",
      " 26  AIR_SYSTEM_DELAY     float64\n",
      " 27  SECURITY_DELAY       float64\n",
      " 28  AIRLINE_DELAY        float64\n",
      " 29  LATE_AIRCRAFT_DELAY  float64\n",
      " 30  WEATHER_DELAY        float64\n",
      " 31  Code_text_orign_1    object \n",
      " 32  Code_text_dest_1     object \n",
      " 33  AIRPORT_orign        object \n",
      " 34  CITY_orign           object \n",
      " 35  STATE_orign          object \n",
      " 36  COUNTRY_orign        object \n",
      " 37  LATITUDE_orign       float64\n",
      " 38  LONGITUDE_orign      float64\n",
      " 39  AIRPORT_dest         object \n",
      " 40  CITY_dest            object \n",
      " 41  STATE_dest           object \n",
      " 42  COUNTRY_dest         object \n",
      " 43  LATITUDE_dest        float64\n",
      " 44  LONGITUDE_dest       float64\n",
      " 45  AIRLINE_name         object \n",
      "dtypes: float64(20), int64(10), object(16)\n",
      "memory usage: 2.0+ GB\n",
      "Wall time: 91.7 ms\n"
     ]
    }
   ],
   "source": [
    "%%time\n",
    "tbl.info()"
   ]
  },
  {
   "cell_type": "markdown",
   "metadata": {},
   "source": [
    "Проверяем поля с кодировкой и названиями аэропортов на null"
   ]
  },
  {
   "cell_type": "code",
   "execution_count": 33,
   "metadata": {},
   "outputs": [
    {
     "name": "stdout",
     "output_type": "stream",
     "text": [
      "Wall time: 850 ms\n"
     ]
    },
    {
     "data": {
      "text/plain": [
       "Code_text_orign_1    0\n",
       "Code_text_dest_1     0\n",
       "AIRPORT_orign        0\n",
       "AIRPORT_dest         0\n",
       "dtype: int64"
      ]
     },
     "execution_count": 33,
     "metadata": {},
     "output_type": "execute_result"
    }
   ],
   "source": [
    "%%time\n",
    "tbl[['Code_text_orign_1', 'Code_text_dest_1', 'AIRPORT_orign', 'AIRPORT_dest']].isnull().sum()"
   ]
  },
  {
   "cell_type": "markdown",
   "metadata": {},
   "source": [
    "### Задание № 1 Найти аэропорт с минимальной задержкой вылета\n",
    "Смотрим только те рейсы где была задежка вылета, если вылет был раньше времени - нам это не интересно. Исключаем отмененные рейсы.\n",
    "\n",
    "Данную задачу можно решить 2 способами: 1 по суммарному времени задерки за весь период; 2 - по среднему времени задержки на 1 рейс.\n",
    "\n",
    "Суммарная задержка вылета сама по себе ни о чем не говорит, т.к. чем больше рейсов у аэропорта, тем больше суммарное время задержки, против аэропортов у которых небольшое кол-во рейсов. Соответственно нужно смотреть некий средний показатель."
   ]
  },
  {
   "cell_type": "code",
   "execution_count": 35,
   "metadata": {},
   "outputs": [
    {
     "name": "stdout",
     "output_type": "stream",
     "text": [
      "Аэропорт с минимальной задержкой вылета (по суммарному времени задержки)\n",
      "        AIRPORT_orign  delay_time  delay_mean\n",
      "42  Canyonlands Field       263.0   23.909091\n",
      "                                                                                               \n",
      "Аэропорт с минимальной задержкой вылета (по сред времени задержки на 1 рейс)\n",
      "           AIRPORT_orign  delay_time  delay_mean\n",
      "155  King Salmon Airport       414.0        13.8\n",
      "Wall time: 1.13 s\n"
     ]
    }
   ],
   "source": [
    "%%time\n",
    "task_1 = tbl.query('DEPARTURE_DELAY > 0.0 & CANCELLED == 0')\n",
    "task_1 = task_1[['AIRPORT_orign', 'FLIGHT_NUMBER', 'DEPARTURE_DELAY']]\n",
    "task_1 = task_1.groupby('AIRPORT_orign')\\\n",
    "                .agg(delay_time = pd.NamedAgg(column = 'DEPARTURE_DELAY', aggfunc = 'sum'),\n",
    "                    delay_mean = pd.NamedAgg(column = 'DEPARTURE_DELAY', aggfunc = 'mean')\n",
    "                    )\\\n",
    "                .reset_index()\n",
    "\n",
    "print('Аэропорт с минимальной задержкой вылета (по суммарному времени задержки)')\n",
    "print(task_1[['AIRPORT_orign', 'delay_time', 'delay_mean']].sort_values('delay_time',ascending=True).head(1))\n",
    "print('                                                                                               ')\n",
    "print('Аэропорт с минимальной задержкой вылета (по сред времени задержки на 1 рейс)')\n",
    "print(task_1[['AIRPORT_orign', 'delay_time', 'delay_mean']].sort_values('delay_mean',ascending=True).head(1))"
   ]
  },
  {
   "cell_type": "code",
   "execution_count": 36,
   "metadata": {},
   "outputs": [
    {
     "name": "stdout",
     "output_type": "stream",
     "text": [
      "Wall time: 0 ns\n"
     ]
    },
    {
     "data": {
      "text/html": [
       "<div>\n",
       "<style scoped>\n",
       "    .dataframe tbody tr th:only-of-type {\n",
       "        vertical-align: middle;\n",
       "    }\n",
       "\n",
       "    .dataframe tbody tr th {\n",
       "        vertical-align: top;\n",
       "    }\n",
       "\n",
       "    .dataframe thead th {\n",
       "        text-align: right;\n",
       "    }\n",
       "</style>\n",
       "<table border=\"1\" class=\"dataframe\">\n",
       "  <thead>\n",
       "    <tr style=\"text-align: right;\">\n",
       "      <th></th>\n",
       "      <th>AIRPORT_orign</th>\n",
       "      <th>delay_time</th>\n",
       "      <th>delay_mean</th>\n",
       "    </tr>\n",
       "  </thead>\n",
       "  <tbody>\n",
       "    <tr>\n",
       "      <th>42</th>\n",
       "      <td>Canyonlands Field</td>\n",
       "      <td>263.0</td>\n",
       "      <td>23.909091</td>\n",
       "    </tr>\n",
       "    <tr>\n",
       "      <th>155</th>\n",
       "      <td>King Salmon Airport</td>\n",
       "      <td>414.0</td>\n",
       "      <td>13.800000</td>\n",
       "    </tr>\n",
       "  </tbody>\n",
       "</table>\n",
       "</div>"
      ],
      "text/plain": [
       "           AIRPORT_orign  delay_time  delay_mean\n",
       "42     Canyonlands Field       263.0   23.909091\n",
       "155  King Salmon Airport       414.0   13.800000"
      ]
     },
     "execution_count": 36,
     "metadata": {},
     "output_type": "execute_result"
    }
   ],
   "source": [
    "%time\n",
    "df_1 = task_1[['AIRPORT_orign', 'delay_time', 'delay_mean']].sort_values('delay_time',ascending=True).head(1)\n",
    "df_2 = task_1[['AIRPORT_orign', 'delay_time', 'delay_mean']].sort_values('delay_mean',ascending=True).head(1)\n",
    "frames = [df_1, df_2]\n",
    "result = pd.concat(frames)\n",
    "result\n",
    "#.set_index('AIRPORT_orign').reset_index()"
   ]
  },
  {
   "cell_type": "markdown",
   "metadata": {},
   "source": [
    "### Задание № 2 Самая пунктуальная авиакомпания на прилет в Los Angeles International Airport\n",
    "Исключаем отмененные рейсы и перенаправленные рейсы и отмененные рейсы.\n",
    "\n",
    "За целевой показатель решено взять сред по времени задержки на 1 рейс. Далее смотрим авиакомпанию у которой данный показатель максимально ближе к 0. Т.к. рейс может прибыть как с опозданием так и прилётом раньше времени, приводим к модулю - нужно для корректной сортировки."
   ]
  },
  {
   "cell_type": "code",
   "execution_count": 37,
   "metadata": {},
   "outputs": [
    {
     "data": {
      "image/png": "[encoded data removed]",
      "text/plain": [
       "<Figure size 936x504 with 1 Axes>"
      ]
     },
     "metadata": {},
     "output_type": "display_data"
    },
    {
     "name": "stdout",
     "output_type": "stream",
     "text": [
      "Wall time: 986 ms\n"
     ]
    }
   ],
   "source": [
    "%%time\n",
    "task_2 = tbl.query(\"AIRPORT_dest == 'Los Angeles International Airport' & CANCELLED == 0 & DIVERTED == 0\")\n",
    "task_2 = task_2.groupby('AIRLINE_name')\\\n",
    "                .agg(delay_time = pd.NamedAgg(column = 'DEPARTURE_DELAY', aggfunc = 'sum'),\n",
    "                    delay_mean = pd.NamedAgg(column = 'DEPARTURE_DELAY', aggfunc = 'mean')\n",
    "                    )\\\n",
    "                .reset_index()\n",
    "\n",
    "task_2['delay_mean_abs'] = task_2['delay_mean'].abs()\n",
    "task_2 = task_2[['AIRLINE_name', 'delay_mean_abs']].sort_values(['delay_mean_abs'],ascending=False).tail(3)\n",
    "\n",
    "sns.set(rc = {'figure.figsize':(13,7)})\n",
    "sns.barplot(x='AIRLINE_name', y='delay_mean_abs', data = task_2)\n",
    "plt.title('Топ 3 самых пунктуальных авиакомпаний на прилет в Los Angeles International Airpor' ,fontsize=16 ,loc = 'center' ,color='DarkRed')\n",
    "plt.xlabel('Авиакомпания' ,fontsize = 15)\n",
    "plt.ylabel('Сред время задержки на 1 рейс' ,fontsize = 15)\n",
    "plt.tight_layout() \n",
    "plt.show()"
   ]
  },
  {
   "cell_type": "markdown",
   "metadata": {},
   "source": [
    "### Задание № 3 Аэропорт с самой большой долей руления на 1 самолетовылет\n",
    "Нам нужен аэропорт где в среднем самолёты тратят больше времени чтобы вылететь. Это показатель TAXI_OUT (доля руления = время прошедшее между отправлением от перона и взлетом) на один рейс.\n",
    "\n",
    "Исключаем отмененные рейсы."
   ]
  },
  {
   "cell_type": "code",
   "execution_count": 38,
   "metadata": {},
   "outputs": [
    {
     "data": {
      "image/png": "[encoded data removed]",
      "text/plain": [
       "<Figure size 936x504 with 1 Axes>"
      ]
     },
     "metadata": {},
     "output_type": "display_data"
    },
    {
     "name": "stdout",
     "output_type": "stream",
     "text": [
      "Wall time: 1.21 s\n"
     ]
    }
   ],
   "source": [
    "%%time\n",
    "task_3 = tbl[['AIRPORT_orign' ,'TAXI_OUT','CANCELLED']]\n",
    "task_3 = task_3.query('CANCELLED == 0')\\\n",
    "                .groupby('AIRPORT_orign')\\\n",
    "                .agg(taxi_out = pd.NamedAgg(column = 'TAXI_OUT', aggfunc = 'sum'),\n",
    "                    taxi_out_mean = pd.NamedAgg(column = 'TAXI_OUT', aggfunc = 'mean')\n",
    "                    )\\\n",
    "                .reset_index()    \n",
    "task_3 = task_3[['AIRPORT_orign', 'taxi_out_mean']].sort_values('taxi_out_mean',ascending=True).tail(3)\n",
    "\n",
    "sns.set(rc = {'figure.figsize':(13,7)})\n",
    "sns.barplot(x='AIRPORT_orign', y='taxi_out_mean', data = task_3)\n",
    "plt.title('Топ 3 аэропорта с самой большой долей руления на 1 самолетовылет' ,fontsize=16 ,loc = 'center' ,color='DarkRed')\n",
    "plt.xlabel('Задание № 3 Аэропорт отправления' ,fontsize = 15)\n",
    "plt.ylabel('Сред время руления на 1 рейс' ,fontsize = 15)\n",
    "plt.tight_layout() \n",
    "plt.show()"
   ]
  },
  {
   "cell_type": "markdown",
   "metadata": {},
   "source": [
    "### Задание № 4 Построить модель которая будет выбирать топ 3 аэропорта прилета (вероятность опоздания минимальная – RMSE метрика),  в зависимости от аэропорта вылета\n",
    "Исключаем отмененные рейсы и перенаправленные рейсы и отмененные рейсы. Из полей YEAR MONTH DAY собираем дату."
   ]
  },
  {
   "cell_type": "code",
   "execution_count": 39,
   "metadata": {},
   "outputs": [
    {
     "name": "stdout",
     "output_type": "stream",
     "text": [
      "Wall time: 19.2 s\n"
     ]
    }
   ],
   "source": [
    "%%time\n",
    "task_4 = tbl.copy()\n",
    "task_4 = task_4[['YEAR', 'MONTH', 'DAY', 'AIRPORT_orign', 'AIRPORT_dest', 'ARRIVAL_DELAY', 'CANCELLED' ,'DIVERTED']]            \n",
    "task_4 = task_4.query('CANCELLED == 0 & DIVERTED == 0')\n",
    "\n",
    "task_4['period_dt'] = task_4['YEAR'].astype(str) + '-' + task_4['MONTH'].astype(str) + '-' + task_4['DAY'].astype(str)\n",
    "task_4['period_dt'] = pd.to_datetime(task_4.period_dt)\n",
    "task_4 = task_4.drop(columns=['CANCELLED' ,'DIVERTED' ,'YEAR' ,'MONTH' ,'DAY'])\n",
    "task_4 = task_4.sort_values(['AIRPORT_orign', 'AIRPORT_dest','ARRIVAL_DELAY', 'period_dt'],ascending=[True, True, True, True])\n",
    "\n",
    "f_gr = task_4.groupby(['period_dt', 'AIRPORT_dest'], as_index=False).agg({'ARRIVAL_DELAY':'sum'})"
   ]
  },
  {
   "cell_type": "code",
   "execution_count": 30,
   "metadata": {},
   "outputs": [],
   "source": [
    "def make_features(data, max_lag, rolling_mean_size):\n",
    "    data['year'] = data.period_dt.dt.year\n",
    "    data['month'] = data.period_dt.dt.month\n",
    "    data['day'] = data.period_dt.dt.day\n",
    "    data['dayofweek'] = data.period_dt.dt.dayofweek\n",
    "    for lag in range(1, max_lag + 1):\n",
    "        data['lag_{}'.format(lag)] = data['ARRIVAL_DELAY'].shift(lag)"
   ]
  },
  {
   "cell_type": "markdown",
   "metadata": {},
   "source": [
    "Считаем сред задержку прибытия в прошлом (история за 21 день сглаженная за 7 дней)"
   ]
  },
  {
   "cell_type": "code",
   "execution_count": 31,
   "metadata": {},
   "outputs": [
    {
     "name": "stdout",
     "output_type": "stream",
     "text": [
      "Error With n_samples=1, test_size=0.25 and train_size=None, the resulting train set will be empty. Adjust any of the aforementioned parameters.\n",
      "Wall time: 35.4 s\n"
     ]
    }
   ],
   "source": [
    "%%time\n",
    "where_to_go = []\n",
    "for dest in f_gr.AIRPORT_dest.unique():\n",
    "    tempo = f_gr[f_gr.AIRPORT_dest==dest][['period_dt','ARRIVAL_DELAY']]\n",
    "    tempo.columns = ['period_dt','ARRIVAL_DELAY']\n",
    "    tempo = pd.DataFrame(tempo)\n",
    "    \n",
    "    try:\n",
    "    \n",
    "        make_features(tempo,21,7)\n",
    "        tempo.dropna(inplace=True)\n",
    "        tempo.set_index('period_dt',inplace=True)\n",
    "           \n",
    "        X_train,X_test,y_train, y_test = train_test_split(tempo.drop('ARRIVAL_DELAY', axis=1),tempo.ARRIVAL_DELAY, shuffle=False, test_size=0.25)\n",
    "\n",
    "        model_lr = LinearRegression()\n",
    "        model_lr.fit(X_train,y_train)\n",
    "\n",
    "        y_predicted_lr = model_lr.predict(X_test)\n",
    "        where_to_go.append([dest,y_test.mean(),np.sqrt(mean_squared_error(y_test, y_predicted_lr))])\n",
    "\n",
    "    except Exception as e:\n",
    "        print('Error', str(e))"
   ]
  },
  {
   "cell_type": "code",
   "execution_count": 32,
   "metadata": {},
   "outputs": [
    {
     "name": "stdout",
     "output_type": "stream",
     "text": [
      "Wall time: 1.99 ms\n"
     ]
    }
   ],
   "source": [
    "%%time\n",
    "where_to_go = pd.DataFrame(where_to_go)\n",
    "where_to_go.columns = ['AIRPORT_dest','MEAN_ARRIVAL_DELAY_IN_PAST','RMSE']"
   ]
  },
  {
   "cell_type": "markdown",
   "metadata": {},
   "source": [
    "Задаём рандомный аэропорт отправления (start_airport). Смотрим куда можем улететь (where_to_go_from_start_airport) из случ выбранного аэропорта отправления.\n",
    "Подтягиваем к случ аэропорту вылета все аэропорты куда может улететь и смотрим сред задержку прибытия в прошлом. Выбираем мин топ 3."
   ]
  },
  {
   "cell_type": "code",
   "execution_count": 33,
   "metadata": {},
   "outputs": [
    {
     "name": "stdout",
     "output_type": "stream",
     "text": [
      "Лучшие направления с аэропорта Palm Springs International Airport\n",
      "\n",
      "                            AIRPORT_dest  MEAN_ARRIVAL_DELAY_IN_PAST  \\\n",
      "8         Portland International Airport                   26.500000   \n",
      "9   Salt Lake City International Airport                  120.558140   \n",
      "11  Seattle-Tacoma International Airport                  472.732558   \n",
      "\n",
      "           RMSE  \n",
      "8    880.105329  \n",
      "9   1722.417926  \n",
      "11  2060.833323  \n",
      "Wall time: 2 s\n"
     ]
    }
   ],
   "source": [
    "%%time\n",
    "start_airport = np.random.choice(task_4['AIRPORT_orign'].unique()) \n",
    "where_to_go_from_start_airport = task_4[task_4.AIRPORT_orign==start_airport]['AIRPORT_dest'].unique()\n",
    "\n",
    "where_to_go_from_start_airport = pd.DataFrame(where_to_go_from_start_airport)\n",
    "where_to_go_from_start_airport.columns = ['AIRPORT_dest']\n",
    "\n",
    "top3 = where_to_go_from_start_airport\\\n",
    "    .merge(where_to_go,on='AIRPORT_dest',how='inner')\\\n",
    "    .sort_values(by=['RMSE','MEAN_ARRIVAL_DELAY_IN_PAST'],ascending=[True, True])\\\n",
    "    .head(3)\n",
    "\n",
    "print('Лучшие направления с аэропорта',start_airport)\n",
    "print('')\n",
    "print(top3)"
   ]
  },
  {
   "cell_type": "markdown",
   "metadata": {},
   "source": [
    "#### Описание полей"
   ]
  },
  {
   "cell_type": "code",
   "execution_count": null,
   "metadata": {},
   "outputs": [],
   "source": [
    "#   0   YEAR                 int64  Year of the Flight Trip\n",
    "#   1   MONTH                int64  Month of the Flight Trip\n",
    "#   2   DAY                  int64  Day of the Flight Trip\n",
    "#   3   DAY_OF_WEEK          int64  Day of week of the Flight Trip\n",
    "\n",
    "#   4   AIRLINE              object Airline Identifier (Идентификатор авиакомпании)\n",
    "#   5   FLIGHT_NUMBER        int64  Flight Identifier (номер рейса)\n",
    "#   6   TAIL_NUMBER          object Aircraft Identifier (Идентификатор самолета)\n",
    "#   7   ORIGIN_AIRPORT       object Starting Airport (id аэропорта вылета)\n",
    "#   8   DESTINATION_AIRPORT  object Destination Airport (id аэропорта прилёта)\n",
    "\n",
    "#   9   SCHEDULED_DEPARTURE  int64  Planned Departure Time (Запланированное время отправления)\n",
    "#  10  DEPARTURE_TIME       float64 WHEEL_OFF - TAXI_OUT (ВРЕМЯ ОТПРАВЛЕНИЯ фактическое ???)\n",
    "#  11  DEPARTURE_DELAY      float64 Total Delay on Departure (ЗАДЕРЖКА ВЫЛЕТА)\n",
    "\n",
    "#  12  TAXI_OUT             float64 (wheels_off - departure_time) The time duration elapsed between departure from the origin airport gate and wheels off\n",
    "#                       (Время, прошедшее между отправлением от выхода на посадку в аэропорту отправления и взлетом)\n",
    "\n",
    "#  13  WHEELS_OFF           float64 The time point that the aircraft's wheels leave the ground (Веменя взлетаета)\n",
    "#  14  SCHEDULED_TIME       float64 Planned time amount needed for the flight trip (плановое время полёта)\n",
    "#  15  ELAPSED_TIME         float64 (AIR_TIME + TAXI_IN + TAXI_OUT) (пройденное время)\n",
    "#  16  AIR_TIME             float64 (wheels_on - wheels_off) The time duration between wheels_off and wheels_on time (Продолжительность между взлётом и посадкой)\n",
    "#  17  DISTANCE             int64   Distance between two airports (Расстояние между двумя аэропортами)\n",
    "#  18  WHEELS_ON            float64 The time point that the aircraft's wheels touch on the ground\n",
    "#                           (Момент времени, когда колеса самолета касаются земли)\n",
    "#  19  TAXI_IN              float64 (arrival_time - wheels_on) The time duration elapsed between wheels-on and gate arrival at the destination airport\n",
    "#                           (Время, прошедшее между посадкой и прибытием к Gate в аэропорту назначения)\n",
    "#  20  SCHEDULED_ARRIVAL    int64   Planned arrival time (Планируемое время прибытия)\n",
    "#  21  ARRIVAL_TIME         float64 WHEELS_ON+TAXI_IN (ВРЕМЯ ПРИБЫТИЯ, фактическое ???)\n",
    "#  22  ARRIVAL_DELAY        float64 ARRIVAL_TIME-SCHEDULED_ARRIVAL (ЗАДЕРЖКА ПРИБЫТИЯ)\n",
    "#  23  DIVERTED             int64   Aircraft landed on airport that out of schedule. Отклоненный рейс\n",
    "#                           (Самолет приземлился в аэропорту не по расписанию)\n",
    "#  24  CANCELLED            int64   Flight Cancelled (1 = cancelled) (Рейс отменен)\n",
    "#  25  CANCELLATION_REASON  object  Reason for Cancellation of flight: A - Airline/Carrier; B - Weather; C - National Air System; D - Security\n",
    "#        (Причина отмены рейса: A - Авиакомпания/Перевозчик; Б - Погода; C - Национальная воздушная система; Д - Безопасность)\n",
    "#  26  AIR_SYSTEM_DELAY     float64 Delay caused by air system (Задержка из-за воздушной системы)\n",
    "#  27  SECURITY_DELAY       float64 Delay caused by security (Задержка из-за безопасности)\n",
    "#  28  AIRLINE_DELAY        float64 Delay caused by the airline (Задержка по вине авиакомпании)\n",
    "#  29  LATE_AIRCRAFT_DELAY  float64 Delay caused by aircraft (Задержка из-за самолета)\n",
    "#  30  WEATHER_DELAY        float64 Delay caused by weather (Задержка из-за погоды)\n",
    "\n",
    "# taxi_out = wheels_off - departure_time. Время взлёта - отправление из аэропорта вылета\n",
    "# taxi_in = arrival_time - wheels_on\n",
    "# air_time = wheels_on - wheels_off\n",
    "# elapsed_time =air_time + taxi_in + taxi_out\n",
    "\n",
    "# Data Relationship\n",
    "# arrival_time = wheels_on + taxi_in\n",
    "# arrival_delay = arrival_time - scheduled_arrival\n",
    "# departure_time = wheels_off - taxi_out\n",
    "# departure_delay = departure_time - scheduled_departure\n",
    "# elapsed_time =air_time + taxi_in + taxi_out\n",
    "# air_time = wheels_on - wheels_off\n",
    "#=====================================================================================================================\n",
    "# Data Definition\n",
    "# WHEELS_OFF Time - The time point that the aircraft's wheels leave the ground (момент времени, когда колеса самолета отрываются от земли)\n",
    "# WHEELS_ON Time - The time point that the aircraft's wheels touch on the ground (момент времени, когда колеса самолета касаются земли)\n",
    "# TAXI_OUT Time - The time duration elapsed between departure from the origin airport gate and wheels off (время, прошедшее с момента отправления от выхода на посадку в аэропорту отправления до выключения колес)\n",
    "# TAXI_IN Time - The time duration elapsed between wheels-on and gate arrival at the destination airport (время, прошедшее между включением колес и прибытием на посадку в аэропорту назначения)\n",
    "# AIR_TIME - The time duration between wheels_off and wheels_on time (время между выключением и включением колес)\n",
    "#=====================================================================================================================\n",
    "# Data Format\n",
    "# The following times are in the xx:yy - hour:minute format (e.g. 1536 means 3:36pm, 345 means 3:45am, 16 means 00:16am)\n",
    "\n",
    "# scheduled_departure\n",
    "# departure_time\n",
    "# scheduled_arrival\n",
    "# arrival_time\n",
    "# wheels_off\n",
    "# wheels_on - The following times are in minutes format (negatives mean actual_time is ahead of scheduled_time for the absolute value of that negative number)\n",
    "#       Следующие значения времени указаны в формате минут (отрицательные значения означают, что фактическое_время опережает запланированное_время для абсолютного значения этого отрицательного числа)\n",
    "# arrival_delay\n",
    "# departure_delay\n",
    "# taxi_in\n",
    "# taxi_out\n",
    "# scheduled_time\n",
    "# elapsed_time\n",
    "# air_time - Distance in miles\n",
    "#=====================================================================================================================\n",
    "# WHEELS_OFF + AIR_TIME (+/- time zone!) = WHEEL_ON\n",
    "# SCHEDULED_ARRIVAL - SCHEDULED_DEPARTURE (+/- time zone) = SCHEDULED_TIME\n",
    "# ARRIVAL_TIME - DEPARTURE_TIME (+/- time zone) = ELAPSED TIME"
   ]
  }
 ],
 "metadata": {
  "kernelspec": {
   "display_name": "Python 3",
   "language": "python",
   "name": "python3"
  },
  "language_info": {
   "codemirror_mode": {
    "name": "ipython",
    "version": 3
   },
   "file_extension": ".py",
   "mimetype": "text/x-python",
   "name": "python",
   "nbconvert_exporter": "python",
   "pygments_lexer": "ipython3",
   "version": "3.8.3"
  }
 },
 "nbformat": 4,
 "nbformat_minor": 4
}
