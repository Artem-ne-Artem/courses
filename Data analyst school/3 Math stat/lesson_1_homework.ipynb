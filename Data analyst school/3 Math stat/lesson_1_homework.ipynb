{
 "cells": [
  {
   "cell_type": "markdown",
   "metadata": {
    "id": "pDrecLU-4QjS"
   },
   "source": [
    "# Практика"
   ]
  },
  {
   "cell_type": "markdown",
   "metadata": {
    "id": "gUvTNDlMaV-a"
   },
   "source": [
    "## Определение вероятности. События\n",
    "\n",
    "Требуется сгенерировать необходимые выборки и произвести по ним расчеты"
   ]
  },
  {
   "cell_type": "markdown",
   "metadata": {
    "id": "5V70InEBTgup"
   },
   "source": [
    "### Задача 1\n",
    "Брошено две монеты. Найти вероятность того, что монеты выпали разными сторонами"
   ]
  },
  {
   "cell_type": "code",
   "execution_count": 1,
   "metadata": {},
   "outputs": [],
   "source": [
    "import pandas as pd\n",
    "import numpy as np\n",
    "import random as rd\n",
    "import matplotlib.pyplot as plt\n",
    "import scipy.stats as sts\n",
    "%matplotlib inline"
   ]
  },
  {
   "cell_type": "code",
   "execution_count": 2,
   "metadata": {
    "id": "88Iw-SL3jYQV"
   },
   "outputs": [
    {
     "data": {
      "text/plain": [
       "0.500275"
      ]
     },
     "execution_count": 2,
     "metadata": {},
     "output_type": "execute_result"
    }
   ],
   "source": [
    "N = 1000000\n",
    "df = pd.DataFrame(columns = [\"coin1\", \"coin2\"])\n",
    "coin1 = sts.bernoulli(.5) # Бернули для монеты 1\n",
    "coin2 = sts.bernoulli(.5) # Бернули для монеты 2\n",
    "df[\"coin1\"] = coin1.rvs(N) # rvs  - длинна ряда\n",
    "df[\"coin2\"] = coin2.rvs(N)\n",
    "p = len(df[df[\"coin1\"]!=df[\"coin2\"]])/df.shape[0]\n",
    "p"
   ]
  },
  {
   "cell_type": "markdown",
   "metadata": {
    "id": "t0XOMos2Tl0e"
   },
   "source": [
    "### Задача 2\n",
    "Брошено три монеты. Описать множество всех элементарных событий. Найти вероятности следующих событий:\n",
    "\n",
    "\n",
    "1.   A = {не выпало ни одного герба}\n",
    "2.   B = {выпало четное число гербов}\n",
    "3.   C = {на третьей монете выпал герб}\n"
   ]
  },
  {
   "cell_type": "code",
   "execution_count": 6,
   "metadata": {
    "id": "o7NjAE9uUo-L"
   },
   "outputs": [
    {
     "name": "stdout",
     "output_type": "stream",
     "text": [
      "0.12395\n",
      "0.50155\n"
     ]
    }
   ],
   "source": [
    "# 1 = герб; 0 != герб\n",
    "N = 100000\n",
    "df = pd.DataFrame(columns = [\"coin_1\", \"coin_2\", \"coin_3\"])\n",
    "coin_1 = sts.bernoulli(.5)\n",
    "coin_2 = sts.bernoulli(.5)\n",
    "coin_3 = sts.bernoulli(.5)\n",
    "df[\"coin_1\"] = coin_1.rvs(N)\n",
    "df[\"coin_2\"] = coin_2.rvs(N)\n",
    "df[\"coin_3\"] = coin_3.rvs(N)\n",
    "\n",
    "a = len(df.query(\"coin_1 != 1 and coin_2 != 1 and coin_3 != 1\")) / len(df)\n",
    "# b\n",
    "c = len(df.query(\"coin_3 == 1\")) / len(df)\n",
    "print(a)\n",
    "print(c)"
   ]
  },
  {
   "cell_type": "markdown",
   "metadata": {},
   "source": [
    "Предлагается также решить задачи: \n",
    "\n",
    "### Задача 3\n",
    "Из двух претендентов E и L на ответственную должность три члена комиссии должны отобрать одного. Каждый член комиссии должен указать либо одного достойного, либо забраковать обоих. Претендент считается выбранным, если он был признана достойным хотя бы двумя членами комиссии.\n",
    "Найти вероятность событий:\n",
    "\n",
    "A = {рекомендован L}, B = {рекомендован E}\n"
   ]
  },
  {
   "cell_type": "code",
   "execution_count": 10,
   "metadata": {},
   "outputs": [
    {
     "name": "stdout",
     "output_type": "stream",
     "text": [
      "0.258307\n",
      "0.259331\n"
     ]
    }
   ],
   "source": [
    "# c_1 - член комиссии 1; c_2 - член комиссии 2; c_3 - член комиссии 3\n",
    "# 1 = рекомендован E; 2 = рекомендован L; 3 = забракованы оба\n",
    "# 3 члена комиссии, 3 возможных исхода = 3 ^ 3 = 27 общее кол-во событий\n",
    "# 7/27\n",
    "\n",
    "n = 1000000\n",
    "ch = pd.DataFrame(columns = [\"c_1\", \"c_2\", \"c_3\"])\n",
    "c_1 = np.random.randint(1, 4, n)\n",
    "c_2 = np.random.randint(1, 4, n)\n",
    "c_3 = np.random.randint(1, 4, n)\n",
    "ch[\"c_1\"] = c_1\n",
    "ch[\"c_2\"] = c_2\n",
    "ch[\"c_3\"] = c_3\n",
    "\n",
    "a = len(ch.query(\"(c_1 == 1 and c_2 == 1) or (c_1 == 1 and c_3 == 1) or (c_2 == 1 and c_3 == 1)\")) / len(ch)\n",
    "b = len(ch.query(\"(c_1 == 2 and c_2 == 2) or (c_1 == 2 and c_3 == 2) or (c_2 == 2 and c_3 == 2)\")) / len(ch)\n",
    "print(a)\n",
    "print(b)"
   ]
  },
  {
   "cell_type": "markdown",
   "metadata": {
    "id": "peM38mVfYa5B"
   },
   "source": [
    "### Задача 4\n",
    "Брошено две игральных кости. Описать множество элементарных событий. Найти вероятности событий:\n",
    "\n",
    "A = {вышло две \"шестерки\"}\n",
    "\n",
    "B = {сумма выпавших очков не меньше 11}\n",
    "\n",
    "C = {не выпала ни одна \"шестерка\"}"
   ]
  },
  {
   "cell_type": "code",
   "execution_count": 11,
   "metadata": {},
   "outputs": [
    {
     "name": "stdout",
     "output_type": "stream",
     "text": [
      "0.02792\n",
      "0.08328\n",
      "0.69413\n"
     ]
    }
   ],
   "source": [
    "n = 100000\n",
    "bones = pd.DataFrame(columns = [\"cube_1\", \"cube_2\"])\n",
    "cube_1 = np.random.randint(1, 7, n)\n",
    "cube_2 = np.random.randint(1, 7, n)\n",
    "bones[\"cube_1\"] = cube_1\n",
    "bones[\"cube_2\"] = cube_2\n",
    "bones['t'] = bones.sum(axis=1)\n",
    "\n",
    "x = len(bones)\n",
    "a = len(bones.query(\"cube_1 == 6 and cube_2 == 6\")) / x\n",
    "b = len(bones.query(\"t >= 11\")) / x\n",
    "c = len(bones.query(\"cube_1 != 6 and cube_2 != 6\")) / x\n",
    "\n",
    "print(a)\n",
    "print(b)\n",
    "print(c)"
   ]
  },
  {
   "cell_type": "markdown",
   "metadata": {
    "id": "f-Bi0p8haclB"
   },
   "source": [
    "## Вероятность суммы событий"
   ]
  },
  {
   "cell_type": "markdown",
   "metadata": {
    "id": "g7A7QlvGTnwZ"
   },
   "source": [
    "### Задача 5\n",
    "Брошены две игральные кости. Найти вероятность события D = {выпала хотя бы одна шестёрка}\n"
   ]
  },
  {
   "cell_type": "code",
   "execution_count": 13,
   "metadata": {
    "id": "vjtTJN-kUp9D"
   },
   "outputs": [
    {
     "name": "stdout",
     "output_type": "stream",
     "text": [
      "0.30587\n"
     ]
    }
   ],
   "source": [
    "# обратное действие \"не выпала ни одна шестерка\" (36-25)/36\n",
    "#bones\n",
    "d = len(bones.query(\"cube_1 == 6 or cube_2 == 6\")) / x\n",
    "print(d)"
   ]
  },
  {
   "cell_type": "markdown",
   "metadata": {
    "id": "R1bYSzQQbC6I"
   },
   "source": [
    "Предлагается также решить задачи: \n",
    "\n",
    "### Задача 6\n",
    "В телефонном номере три последние цифры стерлись. Считая, что все возможные значения стершихся цифр равновероятны, найти вероятность событий:\n",
    "\n",
    "A = {Стерлись различные цифры},\n",
    "\n",
    "B = {Стерлись одинаковые цифры},\n",
    "\n",
    "C = {Среди стершихся цифр хотя бы две совпадают},\n",
    "\n",
    "D = {Среди стершихся цифр хотя бы две различны}\n"
   ]
  },
  {
   "cell_type": "code",
   "execution_count": 16,
   "metadata": {},
   "outputs": [
    {
     "name": "stdout",
     "output_type": "stream",
     "text": [
      "0.990054\n",
      "0.009946\n",
      "0.280543\n",
      "0.719457\n"
     ]
    }
   ],
   "source": [
    "# всего вариаций (10)^3 = 1000\n",
    "# вариации одинаковых цифр 000 111 222...999 = 10\n",
    "# A = {Стерлись различные цифры},\n",
    "# B = {Стерлись одинаковые цифры},\n",
    "# C = {Среди стершихся цифр хотя бы две совпадают},\n",
    "# D = {Среди стершихся цифр хотя бы две различны}\n",
    "\n",
    "n = 1000000\n",
    "num_1 = np.random.randint(0, 10, n)\n",
    "num_2 = np.random.randint(0, 10, n)\n",
    "num_3 = np.random.randint(0, 10, n)\n",
    "num = pd.DataFrame({\"num_1\": num_1, \"num_2\": num_2, \"num_3\": num_3})\n",
    "f = (len(num) - len(num.query(\"num_1 == num_2 == num_3\"))) / len(num)\n",
    "g = len(num.query(\"num_1 == num_2 == num_3\")) / len(num)\n",
    "h = len(num.query(\"num_1 == num_2 or num_1 == num_3 or num_2 == num_3\")) / len(num)\n",
    "j = (len(num) - len(num.query(\"num_1 == num_2 or num_1 == num_3 or num_2 == num_3\"))) / len(num)\n",
    "\n",
    "print(f)\n",
    "print(g)\n",
    "print(h)\n",
    "print(j)"
   ]
  },
  {
   "cell_type": "markdown",
   "metadata": {
    "id": "RnugkR8BalK_"
   },
   "source": [
    "## Случайные величины"
   ]
  },
  {
   "cell_type": "markdown",
   "metadata": {
    "id": "yLoZDZ17UVsp"
   },
   "source": [
    "### Задача 7\n",
    "В лотерее имеется 10 билетов, из которых один выигрышный. Размер выигрыша 10 ден. ед.; стоимость билета 1 ден ед. Найти закон распределения случайной величины X, равной чистому выигрышу участника лотереи, который вытаскивает билет первым."
   ]
  },
  {
   "cell_type": "code",
   "execution_count": null,
   "metadata": {
    "id": "oNk432sKUqzT"
   },
   "outputs": [],
   "source": []
  },
  {
   "cell_type": "markdown",
   "metadata": {
    "id": "U-NK9liSbpvb"
   },
   "source": [
    "Предлагается также решить задачу: \n",
    "\n",
    "### Задача 8\n",
    "Брошены две игральные кости. Найти закон распределения случайной величины $X$, равной сумме выпавших очков. Найти вероятности событий ${X <= 4}$, ${X > 4}$"
   ]
  },
  {
   "cell_type": "code",
   "execution_count": null,
   "metadata": {},
   "outputs": [],
   "source": []
  },
  {
   "cell_type": "markdown",
   "metadata": {
    "id": "shgW4D83awjK"
   },
   "source": [
    "## Условные вероятности"
   ]
  },
  {
   "cell_type": "markdown",
   "metadata": {
    "id": "Fbu1RFZwWZrk"
   },
   "source": [
    "### Задача 9\n",
    "Из колоды (36 карт) вынимают последовательно без возвращения две карты. Найти вероятность того, что первой картой была шестерка, а второй — семерка. Найти условную вероятность того же события при условии, что обе карты бубновой масти.\n"
   ]
  },
  {
   "cell_type": "code",
   "execution_count": null,
   "metadata": {
    "id": "037o56awW9-E"
   },
   "outputs": [],
   "source": []
  },
  {
   "cell_type": "markdown",
   "metadata": {
    "id": "hNVxtaz5c57b"
   },
   "source": [
    "Предлагается также решить задачу: \n",
    "\n",
    "### Задача 10\n",
    "Из урны, содержащей два белых и три черных шара, последовательно извлекают два шара; вынутые шары не возвращаются. Если первый шар оказался черным, то перед вторым извлечением в урну добавляют белый шар. В противном случае состав оставшихся шаров не меняют. Найти вероятности событий:\n",
    "\n",
    "$A$ = {извлечены два белых шара},\n",
    "\n",
    "$B$ = {извлечены два черных шара}\n",
    "\n",
    "Указание. Пусть событие $C_1$ = {первый шар белый}, событие $C_2$ = {второй шар белый}. Тогда $A = C_1C_2$, $B = \\overline C_1 \\overline C_2$ "
   ]
  },
  {
   "cell_type": "code",
   "execution_count": null,
   "metadata": {
    "id": "WSLnhk2sdBt_"
   },
   "outputs": [],
   "source": []
  }
 ],
 "metadata": {
  "colab": {
   "collapsed_sections": [],
   "name": "Практика к занятию 11.ipynb",
   "provenance": []
  },
  "kernelspec": {
   "display_name": "Python 3",
   "language": "python",
   "name": "python3"
  },
  "language_info": {
   "codemirror_mode": {
    "name": "ipython",
    "version": 3
   },
   "file_extension": ".py",
   "mimetype": "text/x-python",
   "name": "python",
   "nbconvert_exporter": "python",
   "pygments_lexer": "ipython3",
   "version": "3.8.3"
  }
 },
 "nbformat": 4,
 "nbformat_minor": 1
}
