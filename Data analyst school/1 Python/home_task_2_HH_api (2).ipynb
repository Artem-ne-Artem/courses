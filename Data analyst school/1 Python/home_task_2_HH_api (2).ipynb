{
 "cells": [
  {
   "cell_type": "markdown",
   "metadata": {},
   "source": [
    "## Задание: вытащить все вакансии СБЕРа с HH (у апи есть ограничение в 2000, подумайте как его обойти)\n",
    "### Вытащите все полные описания этих вакансий по запросу с https://api.hh.ru/vacancies/43326020 где 43326020 id вакансии\n",
    "### Создайте аналогичный vacancy DataFrame только добавьте поле skills\n",
    "### Переведите даты публикаций в datetime\n",
    "### Постройте график опубликованных вакансий по датам\n",
    "### Переведите даты в дни недели, и определите день недели, в который больше всего публикуют вакансий\n",
    "### Найдите те вакансии с использованием python, которые вам интересны\n",
    "### Определите по полю skills какие навыки больше всего востребованы для этих вакансий, и постройте график наиболее востребованных вакансий"
   ]
  },
  {
   "cell_type": "code",
   "execution_count": 1,
   "metadata": {},
   "outputs": [],
   "source": [
    "import requests\n",
    "import numpy as np\n",
    "import pandas as pd\n",
    "from tqdm.auto import tqdm\n",
    "from collections import defaultdict\n",
    "import datetime as dt\n",
    "#from datetime import datetime\n",
    "\n",
    "import matplotlib.pyplot as plt\n",
    "import seaborn as sns\n",
    "\n",
    "%matplotlib inline"
   ]
  },
  {
   "cell_type": "code",
   "execution_count": 2,
   "metadata": {},
   "outputs": [],
   "source": [
    "sber = '3529'\n",
    "page = 1\n",
    "num_per_page = 100\n",
    "moscow = 1\n",
    "url = f'https://api.hh.ru/vacancies?employer_id={sber}&page={page}&per_page={num_per_page}&area={moscow}'\n",
    "#https://hh.ru/search/vacancy?text=%D0%A0%D0%B0%D0%B7%D1%80%D0%B0%D0%B1%D0%BE%D1%82%D1%87%D0%B8%D0%BA&area=1&salary=&currency_code=RUR&experience=between1And3&employment=full&schedule=fullDay&order_by=relevance&search_period=7&items_on_page=50&no_magic=true&L_save_area=true&from=suggest_post"
   ]
  },
  {
   "cell_type": "code",
   "execution_count": 4,
   "metadata": {},
   "outputs": [
    {
     "data": {
      "text/plain": [
       "20"
      ]
     },
     "execution_count": 4,
     "metadata": {},
     "output_type": "execute_result"
    }
   ],
   "source": [
    "# Собираем словарь с id вакансий со всех страниц\n",
    "res = requests.get(url)\n",
    "vacancies = res.json()\n",
    "num_pages = vacancies.get('pages')\n",
    "vacancy_ids = [el.get('id') for el in vacancies.get('items')]\n",
    "num_pages"
   ]
  },
  {
   "cell_type": "code",
   "execution_count": 93,
   "metadata": {},
   "outputs": [],
   "source": [
    "# Словарь с id вакансий\n",
    "#vacancy_ids"
   ]
  },
  {
   "cell_type": "code",
   "execution_count": 30,
   "metadata": {},
   "outputs": [],
   "source": [
    "#vacancies.get('items')"
   ]
  },
  {
   "cell_type": "code",
   "execution_count": 97,
   "metadata": {},
   "outputs": [],
   "source": [
    "#res.json()"
   ]
  },
  {
   "cell_type": "code",
   "execution_count": 5,
   "metadata": {},
   "outputs": [
    {
     "data": {
      "application/vnd.jupyter.widget-view+json": {
       "model_id": "b907c49c95f542e5944baa01ec306fbf",
       "version_major": 2,
       "version_minor": 0
      },
      "text/plain": [
       "HBox(children=(FloatProgress(value=0.0, max=20.0), HTML(value='')))"
      ]
     },
     "metadata": {},
     "output_type": "display_data"
    },
    {
     "name": "stdout",
     "output_type": "stream",
     "text": [
      "\n"
     ]
    }
   ],
   "source": [
    "# проходим циклом по списку из них вытаскиваем id каждой вакансии и добавляем эти id в список \"all_vacancy_ids\"\n",
    "all_vacancy_ids = []\n",
    "for i in tqdm(range(vacancies.get('pages'))):\n",
    "    url = f'https://api.hh.ru/vacancies?employer_id={sber}&page={i}&per_page={num_per_page}&area={moscow}'\n",
    "    res = requests.get(url)\n",
    "    vacancies = res.json()\n",
    "    vacancy_ids = [el.get('id') for el in vacancies.get('items')]\n",
    "    all_vacancy_ids.extend(vacancy_ids)"
   ]
  },
  {
   "cell_type": "code",
   "execution_count": 110,
   "metadata": {},
   "outputs": [],
   "source": [
    "#all_vacancy_ids"
   ]
  },
  {
   "cell_type": "code",
   "execution_count": 5,
   "metadata": {},
   "outputs": [
    {
     "data": {
      "text/plain": [
       "2000"
      ]
     },
     "execution_count": 5,
     "metadata": {},
     "output_type": "execute_result"
    }
   ],
   "source": [
    "len(all_vacancy_ids)"
   ]
  },
  {
   "cell_type": "code",
   "execution_count": 9,
   "metadata": {
    "scrolled": true
   },
   "outputs": [
    {
     "data": {
      "text/plain": [
       "dict_keys(['items', 'found', 'pages', 'per_page', 'page', 'clusters', 'arguments', 'alternate_url'])"
      ]
     },
     "execution_count": 9,
     "metadata": {},
     "output_type": "execute_result"
    }
   ],
   "source": [
    "vacancies.keys()"
   ]
  },
  {
   "cell_type": "code",
   "execution_count": 6,
   "metadata": {},
   "outputs": [],
   "source": [
    "vacancies_items = vacancies.get('items')"
   ]
  },
  {
   "cell_type": "code",
   "execution_count": 7,
   "metadata": {},
   "outputs": [
    {
     "data": {
      "application/vnd.jupyter.widget-view+json": {
       "model_id": "26f3dfb87c1048158f7899259a00e4cb",
       "version_major": 2,
       "version_minor": 0
      },
      "text/plain": [
       "HBox(children=(FloatProgress(value=0.0), HTML(value='')))"
      ]
     },
     "metadata": {},
     "output_type": "display_data"
    },
    {
     "name": "stdout",
     "output_type": "stream",
     "text": [
      "\n"
     ]
    }
   ],
   "source": [
    "# Формируем словарь со списками для колонок таблицы\n",
    "tab_dict = defaultdict(list)\n",
    "# Заполняем списки с помощью цикла\n",
    "for vacancies_items in tqdm(vacancies_items):\n",
    "    tab_dict['id'].append(vacancies_items['id'])\n",
    "    tab_dict['vacancy'].append(vacancies_items['name'])\n",
    "    tab_dict['aepartment'].append(vacancies_items['department']['name'])\n",
    "    tab_dict['area'].append(vacancies_items['area']['name'])\n",
    "    tab_dict['schedule'].append(vacancies_items['schedule']['name'])\n",
    "    tab_dict['published'].append(vacancies_items['published_at'])\n",
    "    tab_dict['created'].append(vacancies_items['created_at'])\n",
    "    tab_dict['skills'].append(vacancies_items['snippet']['requirement'])\n",
    "    tab_dict['responsibility'].append(vacancies_items['snippet']['responsibility'])\n",
    "\n",
    "df_vac = pd.DataFrame.from_dict(tab_dict)    "
   ]
  },
  {
   "cell_type": "markdown",
   "metadata": {},
   "source": [
    "# Переведите даты публикаций в datetime"
   ]
  },
  {
   "cell_type": "code",
   "execution_count": 9,
   "metadata": {},
   "outputs": [
    {
     "data": {
      "text/html": [
       "<div>\n",
       "<style scoped>\n",
       "    .dataframe tbody tr th:only-of-type {\n",
       "        vertical-align: middle;\n",
       "    }\n",
       "\n",
       "    .dataframe tbody tr th {\n",
       "        vertical-align: top;\n",
       "    }\n",
       "\n",
       "    .dataframe thead th {\n",
       "        text-align: right;\n",
       "    }\n",
       "</style>\n",
       "<table border=\"1\" class=\"dataframe\">\n",
       "  <thead>\n",
       "    <tr style=\"text-align: right;\">\n",
       "      <th></th>\n",
       "      <th>id</th>\n",
       "      <th>vacancy</th>\n",
       "      <th>aepartment</th>\n",
       "      <th>area</th>\n",
       "      <th>schedule</th>\n",
       "      <th>published</th>\n",
       "      <th>created</th>\n",
       "      <th>skills</th>\n",
       "      <th>responsibility</th>\n",
       "      <th>published_dt</th>\n",
       "      <th>weekday_1</th>\n",
       "    </tr>\n",
       "  </thead>\n",
       "  <tbody>\n",
       "    <tr>\n",
       "      <th>0</th>\n",
       "      <td>49245771</td>\n",
       "      <td>Java-разработчик (Heavy Metrics )</td>\n",
       "      <td>Сбер для экспертов</td>\n",
       "      <td>Москва</td>\n",
       "      <td>Полный день</td>\n",
       "      <td>2021-10-29 12:32:43+03:00</td>\n",
       "      <td>2021-10-29 12:32:43+03:00</td>\n",
       "      <td>Хорошее знание Core Java особенностей 1.7 и вы...</td>\n",
       "      <td>Разработка сервисов, реализуемых на базе произ...</td>\n",
       "      <td>2021-10-29</td>\n",
       "      <td>5</td>\n",
       "    </tr>\n",
       "    <tr>\n",
       "      <th>1</th>\n",
       "      <td>46990229</td>\n",
       "      <td>Старший администратор АС/ Архитектор (SberBPM....</td>\n",
       "      <td>Сбер. IT</td>\n",
       "      <td>Москва</td>\n",
       "      <td>Полный день</td>\n",
       "      <td>2021-10-29 09:13:43+03:00</td>\n",
       "      <td>2021-10-29 09:13:43+03:00</td>\n",
       "      <td>Знание сетевой модели OSI. Опыт администрирова...</td>\n",
       "      <td>Проработка архитектуры автоматизированной сист...</td>\n",
       "      <td>2021-10-29</td>\n",
       "      <td>5</td>\n",
       "    </tr>\n",
       "  </tbody>\n",
       "</table>\n",
       "</div>"
      ],
      "text/plain": [
       "         id                                            vacancy  \\\n",
       "0  49245771                  Java-разработчик (Heavy Metrics )   \n",
       "1  46990229  Старший администратор АС/ Архитектор (SberBPM....   \n",
       "\n",
       "           aepartment    area     schedule                 published  \\\n",
       "0  Сбер для экспертов  Москва  Полный день 2021-10-29 12:32:43+03:00   \n",
       "1            Сбер. IT  Москва  Полный день 2021-10-29 09:13:43+03:00   \n",
       "\n",
       "                    created  \\\n",
       "0 2021-10-29 12:32:43+03:00   \n",
       "1 2021-10-29 09:13:43+03:00   \n",
       "\n",
       "                                              skills  \\\n",
       "0  Хорошее знание Core Java особенностей 1.7 и вы...   \n",
       "1  Знание сетевой модели OSI. Опыт администрирова...   \n",
       "\n",
       "                                      responsibility published_dt weekday_1  \n",
       "0  Разработка сервисов, реализуемых на базе произ...   2021-10-29         5  \n",
       "1  Проработка архитектуры автоматизированной сист...   2021-10-29         5  "
      ]
     },
     "execution_count": 9,
     "metadata": {},
     "output_type": "execute_result"
    }
   ],
   "source": [
    "df_vac.published = pd.to_datetime(df_vac.published)\n",
    "df_vac.created = pd.to_datetime(df_vac.created)\n",
    "df_vac['published_dt'] = df_vac['published'].dt.strftime('%Y-%m-%d')\n",
    "df_vac.published_dt = pd.to_datetime(df_vac.published_dt)\n",
    "df_vac['weekday_1'] = df_vac['published'].dt.strftime('%w')\n",
    "#df_vac['weekday_2'] = df_vac['published'].dt.strftime('%a')\n",
    "#df_vac['weekday_3'] = df_vac['published'].dt.weekday\n",
    "df_vac.head(2)"
   ]
  },
  {
   "cell_type": "code",
   "execution_count": 10,
   "metadata": {},
   "outputs": [
    {
     "name": "stdout",
     "output_type": "stream",
     "text": [
      "<class 'pandas.core.frame.DataFrame'>\n",
      "RangeIndex: 100 entries, 0 to 99\n",
      "Data columns (total 11 columns):\n",
      " #   Column          Non-Null Count  Dtype                                \n",
      "---  ------          --------------  -----                                \n",
      " 0   id              100 non-null    object                               \n",
      " 1   vacancy         100 non-null    object                               \n",
      " 2   aepartment      100 non-null    object                               \n",
      " 3   area            100 non-null    object                               \n",
      " 4   schedule        100 non-null    object                               \n",
      " 5   published       100 non-null    datetime64[ns, pytz.FixedOffset(180)]\n",
      " 6   created         100 non-null    datetime64[ns, pytz.FixedOffset(180)]\n",
      " 7   skills          100 non-null    object                               \n",
      " 8   responsibility  95 non-null     object                               \n",
      " 9   published_dt    100 non-null    datetime64[ns]                       \n",
      " 10  weekday_1       100 non-null    object                               \n",
      "dtypes: datetime64[ns, pytz.FixedOffset(180)](2), datetime64[ns](1), object(8)\n",
      "memory usage: 8.7+ KB\n"
     ]
    }
   ],
   "source": [
    "df_vac.info()"
   ]
  },
  {
   "cell_type": "code",
   "execution_count": 25,
   "metadata": {},
   "outputs": [],
   "source": [
    "#df_vac.published = pd.to_datetime(df_vac.published).dt.date\n",
    "#df_vac.created = pd.to_datetime(df_vac.created).dt.date"
   ]
  },
  {
   "cell_type": "markdown",
   "metadata": {},
   "source": [
    "# Постройте график опубликованных вакансий по датам"
   ]
  },
  {
   "cell_type": "code",
   "execution_count": 26,
   "metadata": {
    "scrolled": true
   },
   "outputs": [
    {
     "data": {
      "image/png": "[encoded data removed]",
      "text/plain": [
       "<Figure size 1440x360 with 1 Axes>"
      ]
     },
     "metadata": {
      "needs_background": "light"
     },
     "output_type": "display_data"
    }
   ],
   "source": [
    "df_vac_1 = df_vac.groupby('published_dt', as_index = False)\\\n",
    "                    .agg({'id':'count'})\\\n",
    "                    .sort_values('id', ascending = False)\\\n",
    "                    .rename (columns = {'id' : 'qty'})\\\n",
    "                    .plot(x='published_dt', y='qty', rot=45, figsize=(20, 5), grid=True)\n",
    "plt.show()"
   ]
  },
  {
   "cell_type": "markdown",
   "metadata": {},
   "source": [
    "# Переведите даты в дни недели, и определите день недели, в который больше всего публикуют вакансий"
   ]
  },
  {
   "cell_type": "code",
   "execution_count": 27,
   "metadata": {
    "scrolled": true
   },
   "outputs": [
    {
     "data": {
      "text/html": [
       "<div>\n",
       "<style scoped>\n",
       "    .dataframe tbody tr th:only-of-type {\n",
       "        vertical-align: middle;\n",
       "    }\n",
       "\n",
       "    .dataframe tbody tr th {\n",
       "        vertical-align: top;\n",
       "    }\n",
       "\n",
       "    .dataframe thead th {\n",
       "        text-align: right;\n",
       "    }\n",
       "</style>\n",
       "<table border=\"1\" class=\"dataframe\">\n",
       "  <thead>\n",
       "    <tr style=\"text-align: right;\">\n",
       "      <th></th>\n",
       "      <th>weekday_1</th>\n",
       "      <th>qty</th>\n",
       "    </tr>\n",
       "  </thead>\n",
       "  <tbody>\n",
       "    <tr>\n",
       "      <th>3</th>\n",
       "      <td>3</td>\n",
       "      <td>21</td>\n",
       "    </tr>\n",
       "  </tbody>\n",
       "</table>\n",
       "</div>"
      ],
      "text/plain": [
       "  weekday_1  qty\n",
       "3         3   21"
      ]
     },
     "execution_count": 27,
     "metadata": {},
     "output_type": "execute_result"
    }
   ],
   "source": [
    "df_vac_2 = df_vac.groupby('weekday_1', as_index = False)\\\n",
    "                    .agg({'id':'count'})\\\n",
    "                    .rename (columns = {'id' : 'qty'})\\\n",
    "                    .sort_values('qty', ascending=False)\\\n",
    "                    .head(1)\n",
    "df_vac_2"
   ]
  },
  {
   "cell_type": "markdown",
   "metadata": {},
   "source": [
    "# Найдите те вакансии с использованием python, которые вам интересны"
   ]
  },
  {
   "cell_type": "code",
   "execution_count": 28,
   "metadata": {},
   "outputs": [
    {
     "data": {
      "text/html": [
       "<div>\n",
       "<style scoped>\n",
       "    .dataframe tbody tr th:only-of-type {\n",
       "        vertical-align: middle;\n",
       "    }\n",
       "\n",
       "    .dataframe tbody tr th {\n",
       "        vertical-align: top;\n",
       "    }\n",
       "\n",
       "    .dataframe thead th {\n",
       "        text-align: right;\n",
       "    }\n",
       "</style>\n",
       "<table border=\"1\" class=\"dataframe\">\n",
       "  <thead>\n",
       "    <tr style=\"text-align: right;\">\n",
       "      <th></th>\n",
       "      <th>vacancy</th>\n",
       "      <th>skills</th>\n",
       "    </tr>\n",
       "  </thead>\n",
       "  <tbody>\n",
       "    <tr>\n",
       "      <th>92</th>\n",
       "      <td>Senior Data Scientist/ML Engineer SberDevices</td>\n",
       "      <td>Уверенное владение Python на рабочем уровне. Х...</td>\n",
       "    </tr>\n",
       "  </tbody>\n",
       "</table>\n",
       "</div>"
      ],
      "text/plain": [
       "                                          vacancy  \\\n",
       "92  Senior Data Scientist/ML Engineer SberDevices   \n",
       "\n",
       "                                               skills  \n",
       "92  Уверенное владение Python на рабочем уровне. Х...  "
      ]
     },
     "execution_count": 28,
     "metadata": {},
     "output_type": "execute_result"
    }
   ],
   "source": [
    "df_vac_3 = df_vac.query('skills.str.lower().str.contains(\"python\")\\\n",
    "                        & vacancy.str.lower().str.contains(\"data\") \\\n",
    "                        ', engine = 'python')\n",
    "df_vac_3[['vacancy','skills']]"
   ]
  },
  {
   "cell_type": "markdown",
   "metadata": {},
   "source": [
    "# Определите по полю skills какие навыки больше всего востребованы для этих вакансий, и постройте график наиболее востребованных вакансий"
   ]
  },
  {
   "cell_type": "code",
   "execution_count": 29,
   "metadata": {},
   "outputs": [],
   "source": [
    "# Размечаем те вакансии, где присутствует skills \"python\" аналог конструкци case\n",
    "df_vac_4 = df_vac\n",
    "df_vac_4['clickhouse'] = np.where(df_vac_4['skills'].str.lower().str.contains('clickhouse', na=False), 1, 0)\n",
    "df_vac_4['sql'] = np.where(df_vac_4['skills'].str.lower().str.contains('sql', na=False), 1, 0)\n",
    "df_vac_4['java'] = np.where(df_vac_4['skills'].str.lower().str.contains('java', na=False), 1, 0)\n",
    "df_vac_4['python'] = np.where(df_vac_4['skills'].str.lower().str.contains('python', na=False), 1, 0)\n",
    "df_vac_4['perl'] = np.where(df_vac_4['skills'].str.lower().str.contains('perl', na=False), 1, 0)\n",
    "df_vac_4['javascript'] = np.where(df_vac_4['skills'].str.lower().str.contains('javascript', na=False), 1, 0)\n",
    "df_vac_4['c#'] = np.where(df_vac_4['skills'].str.lower().str.contains('C#', na=False), 1, 0)"
   ]
  },
  {
   "cell_type": "code",
   "execution_count": 30,
   "metadata": {},
   "outputs": [
    {
     "data": {
      "text/html": [
       "<div>\n",
       "<style scoped>\n",
       "    .dataframe tbody tr th:only-of-type {\n",
       "        vertical-align: middle;\n",
       "    }\n",
       "\n",
       "    .dataframe tbody tr th {\n",
       "        vertical-align: top;\n",
       "    }\n",
       "\n",
       "    .dataframe thead th {\n",
       "        text-align: right;\n",
       "    }\n",
       "</style>\n",
       "<table border=\"1\" class=\"dataframe\">\n",
       "  <thead>\n",
       "    <tr style=\"text-align: right;\">\n",
       "      <th></th>\n",
       "      <th>id</th>\n",
       "      <th>vacancy</th>\n",
       "      <th>aepartment</th>\n",
       "      <th>area</th>\n",
       "      <th>schedule</th>\n",
       "      <th>published</th>\n",
       "      <th>created</th>\n",
       "      <th>skills</th>\n",
       "      <th>responsibility</th>\n",
       "      <th>published_dt</th>\n",
       "      <th>weekday_1</th>\n",
       "      <th>clickhouse</th>\n",
       "      <th>sql</th>\n",
       "      <th>java</th>\n",
       "      <th>python</th>\n",
       "      <th>perl</th>\n",
       "      <th>javascript</th>\n",
       "      <th>c#</th>\n",
       "    </tr>\n",
       "  </thead>\n",
       "  <tbody>\n",
       "    <tr>\n",
       "      <th>0</th>\n",
       "      <td>48972056</td>\n",
       "      <td>Лидер направления (создание корпоративной моде...</td>\n",
       "      <td>Сбер. IT</td>\n",
       "      <td>Москва</td>\n",
       "      <td>Полный день</td>\n",
       "      <td>2021-11-01 08:28:27+03:00</td>\n",
       "      <td>2021-11-01 08:28:27+03:00</td>\n",
       "      <td>Опыт на проектах enterprise уровня, с большим ...</td>\n",
       "      <td>Формирование единой логической корпоративной м...</td>\n",
       "      <td>2021-11-01</td>\n",
       "      <td>1</td>\n",
       "      <td>0</td>\n",
       "      <td>0</td>\n",
       "      <td>0</td>\n",
       "      <td>0</td>\n",
       "      <td>0</td>\n",
       "      <td>0</td>\n",
       "      <td>0</td>\n",
       "    </tr>\n",
       "    <tr>\n",
       "      <th>1</th>\n",
       "      <td>47486008</td>\n",
       "      <td>Разработчик DWH (Управление сервисов корпорати...</td>\n",
       "      <td>Сбер для экспертов</td>\n",
       "      <td>Москва</td>\n",
       "      <td>Полный день</td>\n",
       "      <td>2021-10-27 16:47:10+03:00</td>\n",
       "      <td>2021-10-27 16:47:10+03:00</td>\n",
       "      <td>Опыт работы не менее 3 лет в сфере работы с да...</td>\n",
       "      <td>Поддержка генерации и отбора идей, оценка труд...</td>\n",
       "      <td>2021-10-27</td>\n",
       "      <td>3</td>\n",
       "      <td>0</td>\n",
       "      <td>0</td>\n",
       "      <td>0</td>\n",
       "      <td>0</td>\n",
       "      <td>0</td>\n",
       "      <td>0</td>\n",
       "      <td>0</td>\n",
       "    </tr>\n",
       "  </tbody>\n",
       "</table>\n",
       "</div>"
      ],
      "text/plain": [
       "         id                                            vacancy  \\\n",
       "0  48972056  Лидер направления (создание корпоративной моде...   \n",
       "1  47486008  Разработчик DWH (Управление сервисов корпорати...   \n",
       "\n",
       "           aepartment    area     schedule                 published  \\\n",
       "0            Сбер. IT  Москва  Полный день 2021-11-01 08:28:27+03:00   \n",
       "1  Сбер для экспертов  Москва  Полный день 2021-10-27 16:47:10+03:00   \n",
       "\n",
       "                    created  \\\n",
       "0 2021-11-01 08:28:27+03:00   \n",
       "1 2021-10-27 16:47:10+03:00   \n",
       "\n",
       "                                              skills  \\\n",
       "0  Опыт на проектах enterprise уровня, с большим ...   \n",
       "1  Опыт работы не менее 3 лет в сфере работы с да...   \n",
       "\n",
       "                                      responsibility published_dt weekday_1  \\\n",
       "0  Формирование единой логической корпоративной м...   2021-11-01         1   \n",
       "1  Поддержка генерации и отбора идей, оценка труд...   2021-10-27         3   \n",
       "\n",
       "   clickhouse  sql  java  python  perl  javascript  c#  \n",
       "0           0    0     0       0     0           0   0  \n",
       "1           0    0     0       0     0           0   0  "
      ]
     },
     "execution_count": 30,
     "metadata": {},
     "output_type": "execute_result"
    }
   ],
   "source": [
    "df_vac_4.head(2)"
   ]
  },
  {
   "cell_type": "code",
   "execution_count": 31,
   "metadata": {},
   "outputs": [
    {
     "data": {
      "text/plain": [
       "<matplotlib.axes._subplots.AxesSubplot at 0x1b73b5e2220>"
      ]
     },
     "execution_count": 31,
     "metadata": {},
     "output_type": "execute_result"
    },
    {
     "data": {
      "image/png": "[encoded data removed]",
      "text/plain": [
       "<Figure size 432x288 with 1 Axes>"
      ]
     },
     "metadata": {
      "needs_background": "light"
     },
     "output_type": "display_data"
    }
   ],
   "source": [
    "df_vac_5 = df_vac_4[['clickhouse','sql','java', 'python', 'perl', 'javascript', 'c#']].sum()\n",
    "df_vac_5 = pd.DataFrame(df_vac_5, columns = ['qty'])\n",
    "df_vac_5.index.name='hard_skills'\n",
    "df_vac_5 = df_vac_5.reset_index().sort_values('qty', ascending=True)\n",
    "#df_vac_5\n",
    "sns.barplot(x='hard_skills', y='qty', data=df_vac_5)"
   ]
  },
  {
   "cell_type": "markdown",
   "metadata": {},
   "source": [
    "# Наиболее востребованных вакансий"
   ]
  },
  {
   "cell_type": "code",
   "execution_count": 32,
   "metadata": {},
   "outputs": [
    {
     "data": {
      "text/html": [
       "<div>\n",
       "<style scoped>\n",
       "    .dataframe tbody tr th:only-of-type {\n",
       "        vertical-align: middle;\n",
       "    }\n",
       "\n",
       "    .dataframe tbody tr th {\n",
       "        vertical-align: top;\n",
       "    }\n",
       "\n",
       "    .dataframe thead th {\n",
       "        text-align: right;\n",
       "    }\n",
       "</style>\n",
       "<table border=\"1\" class=\"dataframe\">\n",
       "  <thead>\n",
       "    <tr style=\"text-align: right;\">\n",
       "      <th></th>\n",
       "      <th>vacancy</th>\n",
       "      <th>qty</th>\n",
       "    </tr>\n",
       "  </thead>\n",
       "  <tbody>\n",
       "    <tr>\n",
       "      <th>7</th>\n",
       "      <td>Java разработчик</td>\n",
       "      <td>2</td>\n",
       "    </tr>\n",
       "    <tr>\n",
       "      <th>22</th>\n",
       "      <td>Senior Java разработчик</td>\n",
       "      <td>2</td>\n",
       "    </tr>\n",
       "    <tr>\n",
       "      <th>0</th>\n",
       "      <td>Android разработчик</td>\n",
       "      <td>1</td>\n",
       "    </tr>\n",
       "    <tr>\n",
       "      <th>16</th>\n",
       "      <td>Middle Java разработчик (Дистанционное Банковс...</td>\n",
       "      <td>1</td>\n",
       "    </tr>\n",
       "    <tr>\n",
       "      <th>28</th>\n",
       "      <td>Разработчик Java</td>\n",
       "      <td>1</td>\n",
       "    </tr>\n",
       "    <tr>\n",
       "      <th>27</th>\n",
       "      <td>Корпоративный архитектор по направлению SberUser</td>\n",
       "      <td>1</td>\n",
       "    </tr>\n",
       "    <tr>\n",
       "      <th>26</th>\n",
       "      <td>Ведущий инженер сопровождения</td>\n",
       "      <td>1</td>\n",
       "    </tr>\n",
       "    <tr>\n",
       "      <th>25</th>\n",
       "      <td>TeamLead Java (проект SberID)</td>\n",
       "      <td>1</td>\n",
       "    </tr>\n",
       "    <tr>\n",
       "      <th>24</th>\n",
       "      <td>Senior android-разработчик (SberDevices - вирт...</td>\n",
       "      <td>1</td>\n",
       "    </tr>\n",
       "    <tr>\n",
       "      <th>23</th>\n",
       "      <td>Senior Java-разработчик (Team Lead)</td>\n",
       "      <td>1</td>\n",
       "    </tr>\n",
       "    <tr>\n",
       "      <th>21</th>\n",
       "      <td>Senior / Middle Frontend Разработчик (Продукт ...</td>\n",
       "      <td>1</td>\n",
       "    </tr>\n",
       "    <tr>\n",
       "      <th>20</th>\n",
       "      <td>React Native разработчик</td>\n",
       "      <td>1</td>\n",
       "    </tr>\n",
       "    <tr>\n",
       "      <th>19</th>\n",
       "      <td>QA Engineer (автотестирование)</td>\n",
       "      <td>1</td>\n",
       "    </tr>\n",
       "    <tr>\n",
       "      <th>18</th>\n",
       "      <td>Middle/Senior QA инженер по автоматизированном...</td>\n",
       "      <td>1</td>\n",
       "    </tr>\n",
       "    <tr>\n",
       "      <th>17</th>\n",
       "      <td>Middle Java разработчик (продукт СберЛид)</td>\n",
       "      <td>1</td>\n",
       "    </tr>\n",
       "    <tr>\n",
       "      <th>15</th>\n",
       "      <td>Middle Java разработчик</td>\n",
       "      <td>1</td>\n",
       "    </tr>\n",
       "    <tr>\n",
       "      <th>1</th>\n",
       "      <td>Data engineer (Разработчик)</td>\n",
       "      <td>1</td>\n",
       "    </tr>\n",
       "    <tr>\n",
       "      <th>14</th>\n",
       "      <td>Java-разработчик (операции по вкладам)</td>\n",
       "      <td>1</td>\n",
       "    </tr>\n",
       "    <tr>\n",
       "      <th>13</th>\n",
       "      <td>Java-разработчик (команда каталог СБОЛ)</td>\n",
       "      <td>1</td>\n",
       "    </tr>\n",
       "    <tr>\n",
       "      <th>12</th>\n",
       "      <td>Java-разработчик (Команда V-assistant Back)</td>\n",
       "      <td>1</td>\n",
       "    </tr>\n",
       "    <tr>\n",
       "      <th>11</th>\n",
       "      <td>Java-разработчик (Heavy Metrics )</td>\n",
       "      <td>1</td>\n",
       "    </tr>\n",
       "    <tr>\n",
       "      <th>10</th>\n",
       "      <td>Java-разработчик</td>\n",
       "      <td>1</td>\n",
       "    </tr>\n",
       "    <tr>\n",
       "      <th>9</th>\n",
       "      <td>Java разработчик в команду Intelligent Search</td>\n",
       "      <td>1</td>\n",
       "    </tr>\n",
       "    <tr>\n",
       "      <th>8</th>\n",
       "      <td>Java разработчик (Sber911)</td>\n",
       "      <td>1</td>\n",
       "    </tr>\n",
       "    <tr>\n",
       "      <th>6</th>\n",
       "      <td>Java Разработчик</td>\n",
       "      <td>1</td>\n",
       "    </tr>\n",
       "    <tr>\n",
       "      <th>5</th>\n",
       "      <td>Java developer (Главная страница и Профиль кли...</td>\n",
       "      <td>1</td>\n",
       "    </tr>\n",
       "    <tr>\n",
       "      <th>4</th>\n",
       "      <td>Java Developer АС Мониторинг Бизнес-процессов</td>\n",
       "      <td>1</td>\n",
       "    </tr>\n",
       "    <tr>\n",
       "      <th>3</th>\n",
       "      <td>Devops engineer (Электронное взаимодействие с ...</td>\n",
       "      <td>1</td>\n",
       "    </tr>\n",
       "    <tr>\n",
       "      <th>2</th>\n",
       "      <td>DevOps (эксплуатация)</td>\n",
       "      <td>1</td>\n",
       "    </tr>\n",
       "    <tr>\n",
       "      <th>29</th>\n",
       "      <td>Разработчик Java Script (Премиальные решения)</td>\n",
       "      <td>1</td>\n",
       "    </tr>\n",
       "  </tbody>\n",
       "</table>\n",
       "</div>"
      ],
      "text/plain": [
       "                                              vacancy  qty\n",
       "7                                    Java разработчик    2\n",
       "22                            Senior Java разработчик    2\n",
       "0                                 Android разработчик    1\n",
       "16  Middle Java разработчик (Дистанционное Банковс...    1\n",
       "28                                   Разработчик Java    1\n",
       "27   Корпоративный архитектор по направлению SberUser    1\n",
       "26                      Ведущий инженер сопровождения    1\n",
       "25                      TeamLead Java (проект SberID)    1\n",
       "24  Senior android-разработчик (SberDevices - вирт...    1\n",
       "23                Senior Java-разработчик (Team Lead)    1\n",
       "21  Senior / Middle Frontend Разработчик (Продукт ...    1\n",
       "20                           React Native разработчик    1\n",
       "19                     QA Engineer (автотестирование)    1\n",
       "18  Middle/Senior QA инженер по автоматизированном...    1\n",
       "17          Middle Java разработчик (продукт СберЛид)    1\n",
       "15                            Middle Java разработчик    1\n",
       "1                         Data engineer (Разработчик)    1\n",
       "14             Java-разработчик (операции по вкладам)    1\n",
       "13            Java-разработчик (команда каталог СБОЛ)    1\n",
       "12        Java-разработчик (Команда V-assistant Back)    1\n",
       "11                  Java-разработчик (Heavy Metrics )    1\n",
       "10                                   Java-разработчик    1\n",
       "9       Java разработчик в команду Intelligent Search    1\n",
       "8                          Java разработчик (Sber911)    1\n",
       "6                                    Java Разработчик    1\n",
       "5   Java developer (Главная страница и Профиль кли...    1\n",
       "4       Java Developer АС Мониторинг Бизнес-процессов    1\n",
       "3   Devops engineer (Электронное взаимодействие с ...    1\n",
       "2                               DevOps (эксплуатация)    1\n",
       "29      Разработчик Java Script (Премиальные решения)    1"
      ]
     },
     "execution_count": 32,
     "metadata": {},
     "output_type": "execute_result"
    }
   ],
   "source": [
    "df_vac_6 = df_vac_4.query('skills.str.lower().str.contains(\"java\")', engine = 'python')\\\n",
    "                    .groupby('vacancy', as_index=False)\\\n",
    "                    .agg({'id':'count'})\\\n",
    "                    .rename(columns = {'id':'qty'})\\\n",
    "                    .sort_values('qty', ascending=False)\n",
    "df_vac_6"
   ]
  }
 ],
 "metadata": {
  "kernelspec": {
   "display_name": "Python 3",
   "language": "python",
   "name": "python3"
  },
  "language_info": {
   "codemirror_mode": {
    "name": "ipython",
    "version": 3
   },
   "file_extension": ".py",
   "mimetype": "text/x-python",
   "name": "python",
   "nbconvert_exporter": "python",
   "pygments_lexer": "ipython3",
   "version": "3.8.3"
  }
 },
 "nbformat": 4,
 "nbformat_minor": 4
}
