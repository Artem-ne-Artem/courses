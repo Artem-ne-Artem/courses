{
 "cells": [
  {
   "cell_type": "markdown",
   "metadata": {},
   "source": [
    "### 1. Посмотрите видео Дэвида Бизли про всроенные инструменты Python\n",
    "#### 2. Попробуйте используя встроенные инструменты Python проанализировать таблицу из файла \"Vacancy.csv\"\n",
    "#### 3. Попробуйте ответить на вопросы:\n",
    "#### Сколько вакансий, которые вам нравятся?\n",
    "#### Насколько свежие эти вакансии?\n",
    "#### Сколько вакансий с позициями на которых вы работаете?\n",
    "#### Сколько вакансий для аналатика данных?\n",
    "#### Сколько вакансий для аналитика данных с использованием Python?\n",
    "\n",
    "#### В задании важно не использовать pandas и numpy, а встроенные инструменты python\n",
    "#### Counter, CSV, defaultdict, sorted"
   ]
  },
  {
   "cell_type": "code",
   "execution_count": 4,
   "metadata": {},
   "outputs": [],
   "source": [
    "import pandas as pd\n",
    "import datetime as dt\n",
    "import matplotlib.pyplot as plt\n",
    "import numpy as np\n",
    "import seaborn as sns"
   ]
  },
  {
   "cell_type": "markdown",
   "metadata": {},
   "source": [
    "# Подготовительный этап"
   ]
  },
  {
   "cell_type": "code",
   "execution_count": 5,
   "metadata": {},
   "outputs": [
    {
     "name": "stdout",
     "output_type": "stream",
     "text": [
      "Wall time: 1.41 s\n"
     ]
    }
   ],
   "source": [
    "%%time\n",
    "#vac = pd.read_csv('data/vacancy.csv.zip')\n",
    "vac = pd.read_csv(r'C:\\Users\\Артем\\New_Jupyter\\Sber_DA\\data\\vacancy.csv.zip')"
   ]
  },
  {
   "cell_type": "code",
   "execution_count": 7,
   "metadata": {},
   "outputs": [
    {
     "data": {
      "text/plain": [
       "id                 int64\n",
       "created_at        object\n",
       "updated_at        object\n",
       "vacid              int64\n",
       "vactitle          object\n",
       "vacdescription    object\n",
       "vacdate           object\n",
       "vacstatus         object\n",
       "vaclink           object\n",
       "vachtml           object\n",
       "dtype: object"
      ]
     },
     "execution_count": 7,
     "metadata": {},
     "output_type": "execute_result"
    }
   ],
   "source": [
    "vac.dtypes"
   ]
  },
  {
   "cell_type": "code",
   "execution_count": 6,
   "metadata": {},
   "outputs": [],
   "source": [
    "vac = vac.drop(['vachtml','created_at','updated_at' ,'vaclink'], axis=1)"
   ]
  },
  {
   "cell_type": "code",
   "execution_count": 7,
   "metadata": {},
   "outputs": [],
   "source": [
    "vac.vacdate = pd.to_datetime(vac.vacdate)\n",
    "vac['vac_period'] = vac['vacdate'].dt.strftime('%Y-%m')"
   ]
  },
  {
   "cell_type": "code",
   "execution_count": 8,
   "metadata": {},
   "outputs": [
    {
     "data": {
      "text/html": [
       "<div>\n",
       "<style scoped>\n",
       "    .dataframe tbody tr th:only-of-type {\n",
       "        vertical-align: middle;\n",
       "    }\n",
       "\n",
       "    .dataframe tbody tr th {\n",
       "        vertical-align: top;\n",
       "    }\n",
       "\n",
       "    .dataframe thead th {\n",
       "        text-align: right;\n",
       "    }\n",
       "</style>\n",
       "<table border=\"1\" class=\"dataframe\">\n",
       "  <thead>\n",
       "    <tr style=\"text-align: right;\">\n",
       "      <th></th>\n",
       "      <th>id</th>\n",
       "      <th>vacid</th>\n",
       "      <th>vactitle</th>\n",
       "      <th>vacdescription</th>\n",
       "      <th>vacdate</th>\n",
       "      <th>vacstatus</th>\n",
       "      <th>vac_period</th>\n",
       "    </tr>\n",
       "  </thead>\n",
       "  <tbody>\n",
       "    <tr>\n",
       "      <th>0</th>\n",
       "      <td>383479</td>\n",
       "      <td>1474941</td>\n",
       "      <td>Senior java-разработчик (в команду Онбординга)</td>\n",
       "      <td>Работа у нас — это:команда профессионалов, го...</td>\n",
       "      <td>2021-03-15</td>\n",
       "      <td>new</td>\n",
       "      <td>2021-03</td>\n",
       "    </tr>\n",
       "    <tr>\n",
       "      <th>1</th>\n",
       "      <td>383480</td>\n",
       "      <td>1476154</td>\n",
       "      <td>Дизайнер мобильных приложений</td>\n",
       "      <td>Мы ищем  дизайнера в нашу дружную команду Сбер...</td>\n",
       "      <td>2021-03-15</td>\n",
       "      <td>new</td>\n",
       "      <td>2021-03</td>\n",
       "    </tr>\n",
       "  </tbody>\n",
       "</table>\n",
       "</div>"
      ],
      "text/plain": [
       "       id    vacid                                        vactitle  \\\n",
       "0  383479  1474941  Senior java-разработчик (в команду Онбординга)   \n",
       "1  383480  1476154                   Дизайнер мобильных приложений   \n",
       "\n",
       "                                      vacdescription    vacdate vacstatus  \\\n",
       "0   Работа у нас — это:команда профессионалов, го... 2021-03-15       new   \n",
       "1  Мы ищем  дизайнера в нашу дружную команду Сбер... 2021-03-15       new   \n",
       "\n",
       "  vac_period  \n",
       "0    2021-03  \n",
       "1    2021-03  "
      ]
     },
     "execution_count": 8,
     "metadata": {},
     "output_type": "execute_result"
    }
   ],
   "source": [
    "vac.head(2)"
   ]
  },
  {
   "cell_type": "markdown",
   "metadata": {},
   "source": [
    "# Сколько вакансий, которые вам нравятся?\n",
    "### предварительно 15 вакансий мне подходят"
   ]
  },
  {
   "cell_type": "code",
   "execution_count": 9,
   "metadata": {},
   "outputs": [
    {
     "data": {
      "text/html": [
       "<div>\n",
       "<style scoped>\n",
       "    .dataframe tbody tr th:only-of-type {\n",
       "        vertical-align: middle;\n",
       "    }\n",
       "\n",
       "    .dataframe tbody tr th {\n",
       "        vertical-align: top;\n",
       "    }\n",
       "\n",
       "    .dataframe thead th {\n",
       "        text-align: right;\n",
       "    }\n",
       "</style>\n",
       "<table border=\"1\" class=\"dataframe\">\n",
       "  <thead>\n",
       "    <tr style=\"text-align: right;\">\n",
       "      <th></th>\n",
       "      <th>id</th>\n",
       "      <th>vacid</th>\n",
       "      <th>vactitle</th>\n",
       "      <th>vacdescription</th>\n",
       "      <th>vacdate</th>\n",
       "      <th>vacstatus</th>\n",
       "      <th>vac_period</th>\n",
       "    </tr>\n",
       "  </thead>\n",
       "  <tbody>\n",
       "    <tr>\n",
       "      <th>121</th>\n",
       "      <td>383600</td>\n",
       "      <td>1564167</td>\n",
       "      <td>Аналитик SQL (кампании продаж)</td>\n",
       "      <td>Условия:- работа в крупнейшем банке России;- т...</td>\n",
       "      <td>2021-03-15</td>\n",
       "      <td>new</td>\n",
       "      <td>2021-03</td>\n",
       "    </tr>\n",
       "    <tr>\n",
       "      <th>221</th>\n",
       "      <td>383700</td>\n",
       "      <td>1571444</td>\n",
       "      <td>Data analyst. Аналитик данных в трайб «Массова...</td>\n",
       "      <td>Обязанности:- анализ данных по процессам взаим...</td>\n",
       "      <td>2021-03-12</td>\n",
       "      <td>new</td>\n",
       "      <td>2021-03</td>\n",
       "    </tr>\n",
       "    <tr>\n",
       "      <th>1226</th>\n",
       "      <td>384705</td>\n",
       "      <td>1530576</td>\n",
       "      <td>Руководитель команды Отчетность и Аналитика</td>\n",
       "      <td>Условия: работа в крупнейшем банке России;труд...</td>\n",
       "      <td>2021-03-02</td>\n",
       "      <td>new</td>\n",
       "      <td>2021-03</td>\n",
       "    </tr>\n",
       "    <tr>\n",
       "      <th>1604</th>\n",
       "      <td>385083</td>\n",
       "      <td>1506715</td>\n",
       "      <td>Аналитик-разработчик(витрины данных)</td>\n",
       "      <td>Сбер — больше чем банк, это вселенная полезных...</td>\n",
       "      <td>2021-02-26</td>\n",
       "      <td>new</td>\n",
       "      <td>2021-02</td>\n",
       "    </tr>\n",
       "    <tr>\n",
       "      <th>2198</th>\n",
       "      <td>385677</td>\n",
       "      <td>1528685</td>\n",
       "      <td>Аналитик БД в Дивизион 'Транзакционный бизнес'</td>\n",
       "      <td>Условия: Работа в крупнейшем банке России;Труд...</td>\n",
       "      <td>2021-02-16</td>\n",
       "      <td>new</td>\n",
       "      <td>2021-02</td>\n",
       "    </tr>\n",
       "    <tr>\n",
       "      <th>2280</th>\n",
       "      <td>385759</td>\n",
       "      <td>1527248</td>\n",
       "      <td>Data Аналитик</td>\n",
       "      <td>Работа у нас — это: команда профессионалов, го...</td>\n",
       "      <td>2021-02-11</td>\n",
       "      <td>new</td>\n",
       "      <td>2021-02</td>\n",
       "    </tr>\n",
       "    <tr>\n",
       "      <th>2399</th>\n",
       "      <td>385878</td>\n",
       "      <td>1521021</td>\n",
       "      <td>Руководитель направления по аналитике данных</td>\n",
       "      <td>Является преимуществом:Опыт использования прод...</td>\n",
       "      <td>2021-02-08</td>\n",
       "      <td>new</td>\n",
       "      <td>2021-02</td>\n",
       "    </tr>\n",
       "    <tr>\n",
       "      <th>2476</th>\n",
       "      <td>385955</td>\n",
       "      <td>1440833</td>\n",
       "      <td>Системный аналитик (Big Data)</td>\n",
       "      <td>Мы команда SberData ищем сильного аналитика с ...</td>\n",
       "      <td>2021-02-05</td>\n",
       "      <td>new</td>\n",
       "      <td>2021-02</td>\n",
       "    </tr>\n",
       "    <tr>\n",
       "      <th>2503</th>\n",
       "      <td>385982</td>\n",
       "      <td>1522026</td>\n",
       "      <td>Эксперт по аналитике</td>\n",
       "      <td>Условия:Конкурентоспособный уровень дохода (ок...</td>\n",
       "      <td>2021-02-05</td>\n",
       "      <td>new</td>\n",
       "      <td>2021-02</td>\n",
       "    </tr>\n",
       "    <tr>\n",
       "      <th>2571</th>\n",
       "      <td>386050</td>\n",
       "      <td>1508630</td>\n",
       "      <td>Системный аналитик</td>\n",
       "      <td>Трайб «Интеллектуальная система управления» фо...</td>\n",
       "      <td>2021-02-03</td>\n",
       "      <td>new</td>\n",
       "      <td>2021-02</td>\n",
       "    </tr>\n",
       "    <tr>\n",
       "      <th>2595</th>\n",
       "      <td>386074</td>\n",
       "      <td>1480090</td>\n",
       "      <td>Аналитик</td>\n",
       "      <td>Условия: Работа в крупнейшем банке России;Тру...</td>\n",
       "      <td>2021-02-03</td>\n",
       "      <td>new</td>\n",
       "      <td>2021-02</td>\n",
       "    </tr>\n",
       "    <tr>\n",
       "      <th>2882</th>\n",
       "      <td>386361</td>\n",
       "      <td>1508547</td>\n",
       "      <td>Системный аналитик</td>\n",
       "      <td>Мы предлагаем:Развитие в ключевом для компании...</td>\n",
       "      <td>2021-01-25</td>\n",
       "      <td>new</td>\n",
       "      <td>2021-01</td>\n",
       "    </tr>\n",
       "    <tr>\n",
       "      <th>3261</th>\n",
       "      <td>386740</td>\n",
       "      <td>1475494</td>\n",
       "      <td>Аналитик интеграционных взаимодействий</td>\n",
       "      <td>Основные задачи команды – развитие внутреннего...</td>\n",
       "      <td>2020-12-28</td>\n",
       "      <td>new</td>\n",
       "      <td>2020-12</td>\n",
       "    </tr>\n",
       "    <tr>\n",
       "      <th>3262</th>\n",
       "      <td>386741</td>\n",
       "      <td>1475498</td>\n",
       "      <td>Аналитик данных AI</td>\n",
       "      <td>Экосистема — инициатива Сбербанка, создающая н...</td>\n",
       "      <td>2020-12-28</td>\n",
       "      <td>new</td>\n",
       "      <td>2020-12</td>\n",
       "    </tr>\n",
       "    <tr>\n",
       "      <th>3263</th>\n",
       "      <td>386742</td>\n",
       "      <td>1475499</td>\n",
       "      <td>Аналитик данных (аналитические витрины)</td>\n",
       "      <td>Экосистема — инициатива Сбербанка, создающая н...</td>\n",
       "      <td>2020-12-28</td>\n",
       "      <td>new</td>\n",
       "      <td>2020-12</td>\n",
       "    </tr>\n",
       "  </tbody>\n",
       "</table>\n",
       "</div>"
      ],
      "text/plain": [
       "          id    vacid                                           vactitle  \\\n",
       "121   383600  1564167                     Аналитик SQL (кампании продаж)   \n",
       "221   383700  1571444  Data analyst. Аналитик данных в трайб «Массова...   \n",
       "1226  384705  1530576        Руководитель команды Отчетность и Аналитика   \n",
       "1604  385083  1506715               Аналитик-разработчик(витрины данных)   \n",
       "2198  385677  1528685     Аналитик БД в Дивизион 'Транзакционный бизнес'   \n",
       "2280  385759  1527248                                      Data Аналитик   \n",
       "2399  385878  1521021       Руководитель направления по аналитике данных   \n",
       "2476  385955  1440833                      Системный аналитик (Big Data)   \n",
       "2503  385982  1522026                               Эксперт по аналитике   \n",
       "2571  386050  1508630                                 Системный аналитик   \n",
       "2595  386074  1480090                                           Аналитик   \n",
       "2882  386361  1508547                                 Системный аналитик   \n",
       "3261  386740  1475494             Аналитик интеграционных взаимодействий   \n",
       "3262  386741  1475498                                 Аналитик данных AI   \n",
       "3263  386742  1475499            Аналитик данных (аналитические витрины)   \n",
       "\n",
       "                                         vacdescription    vacdate vacstatus  \\\n",
       "121   Условия:- работа в крупнейшем банке России;- т... 2021-03-15       new   \n",
       "221   Обязанности:- анализ данных по процессам взаим... 2021-03-12       new   \n",
       "1226  Условия: работа в крупнейшем банке России;труд... 2021-03-02       new   \n",
       "1604  Сбер — больше чем банк, это вселенная полезных... 2021-02-26       new   \n",
       "2198  Условия: Работа в крупнейшем банке России;Труд... 2021-02-16       new   \n",
       "2280  Работа у нас — это: команда профессионалов, го... 2021-02-11       new   \n",
       "2399  Является преимуществом:Опыт использования прод... 2021-02-08       new   \n",
       "2476  Мы команда SberData ищем сильного аналитика с ... 2021-02-05       new   \n",
       "2503  Условия:Конкурентоспособный уровень дохода (ок... 2021-02-05       new   \n",
       "2571  Трайб «Интеллектуальная система управления» фо... 2021-02-03       new   \n",
       "2595   Условия: Работа в крупнейшем банке России;Тру... 2021-02-03       new   \n",
       "2882  Мы предлагаем:Развитие в ключевом для компании... 2021-01-25       new   \n",
       "3261  Основные задачи команды – развитие внутреннего... 2020-12-28       new   \n",
       "3262  Экосистема — инициатива Сбербанка, создающая н... 2020-12-28       new   \n",
       "3263  Экосистема — инициатива Сбербанка, создающая н... 2020-12-28       new   \n",
       "\n",
       "     vac_period  \n",
       "121     2021-03  \n",
       "221     2021-03  \n",
       "1226    2021-03  \n",
       "1604    2021-02  \n",
       "2198    2021-02  \n",
       "2280    2021-02  \n",
       "2399    2021-02  \n",
       "2476    2021-02  \n",
       "2503    2021-02  \n",
       "2571    2021-02  \n",
       "2595    2021-02  \n",
       "2882    2021-01  \n",
       "3261    2020-12  \n",
       "3262    2020-12  \n",
       "3263    2020-12  "
      ]
     },
     "execution_count": 9,
     "metadata": {},
     "output_type": "execute_result"
    }
   ],
   "source": [
    "vac_z = vac.query('vactitle.str.lower().str.contains(\"аналитик\") \\\n",
    "                    & vacdescription.str.lower().str.contains(\"sql\") \\\n",
    "                    & vacdescription.str.lower().str.contains(\"python\") \\\n",
    "                    & vacdescription.str.lower().str.contains(\"bi\") \\\n",
    "                    ', engine = 'python')\n",
    "vac_z"
   ]
  },
  {
   "cell_type": "markdown",
   "metadata": {},
   "source": [
    "# Насколько свежие эти вакансии?\n",
    "### 90% вакансий датированы 1 кв 2021 года, остальные за 2020 год"
   ]
  },
  {
   "cell_type": "code",
   "execution_count": 12,
   "metadata": {},
   "outputs": [
    {
     "data": {
      "text/html": [
       "<div>\n",
       "<style scoped>\n",
       "    .dataframe tbody tr th:only-of-type {\n",
       "        vertical-align: middle;\n",
       "    }\n",
       "\n",
       "    .dataframe tbody tr th {\n",
       "        vertical-align: top;\n",
       "    }\n",
       "\n",
       "    .dataframe thead th {\n",
       "        text-align: right;\n",
       "    }\n",
       "</style>\n",
       "<table border=\"1\" class=\"dataframe\">\n",
       "  <thead>\n",
       "    <tr style=\"text-align: right;\">\n",
       "      <th></th>\n",
       "      <th>index</th>\n",
       "      <th>vac_period</th>\n",
       "    </tr>\n",
       "  </thead>\n",
       "  <tbody>\n",
       "    <tr>\n",
       "      <th>0</th>\n",
       "      <td>2021-03</td>\n",
       "      <td>0.49650</td>\n",
       "    </tr>\n",
       "    <tr>\n",
       "      <th>1</th>\n",
       "      <td>2021-02</td>\n",
       "      <td>0.30825</td>\n",
       "    </tr>\n",
       "    <tr>\n",
       "      <th>2</th>\n",
       "      <td>2021-01</td>\n",
       "      <td>0.11750</td>\n",
       "    </tr>\n",
       "    <tr>\n",
       "      <th>3</th>\n",
       "      <td>2020-12</td>\n",
       "      <td>0.05675</td>\n",
       "    </tr>\n",
       "    <tr>\n",
       "      <th>4</th>\n",
       "      <td>2020-11</td>\n",
       "      <td>0.01425</td>\n",
       "    </tr>\n",
       "    <tr>\n",
       "      <th>5</th>\n",
       "      <td>2020-10</td>\n",
       "      <td>0.00675</td>\n",
       "    </tr>\n",
       "  </tbody>\n",
       "</table>\n",
       "</div>"
      ],
      "text/plain": [
       "     index  vac_period\n",
       "0  2021-03     0.49650\n",
       "1  2021-02     0.30825\n",
       "2  2021-01     0.11750\n",
       "3  2020-12     0.05675\n",
       "4  2020-11     0.01425\n",
       "5  2020-10     0.00675"
      ]
     },
     "execution_count": 12,
     "metadata": {},
     "output_type": "execute_result"
    }
   ],
   "source": [
    "vac_1 = vac.vac_period.value_counts(normalize=True)\n",
    "vac_1 = vac_1.reset_index()\n",
    "vac_1"
   ]
  },
  {
   "cell_type": "code",
   "execution_count": 95,
   "metadata": {},
   "outputs": [
    {
     "data": {
      "text/plain": [
       "<matplotlib.axes._subplots.AxesSubplot at 0x1feab6f8bb0>"
      ]
     },
     "execution_count": 95,
     "metadata": {},
     "output_type": "execute_result"
    },
    {
     "data": {
      "image/png": "[encoded data removed]",
      "text/plain": [
       "<Figure size 504x360 with 1 Axes>"
      ]
     },
     "metadata": {
      "needs_background": "light"
     },
     "output_type": "display_data"
    }
   ],
   "source": [
    "plt.figure(figsize=(7 ,5))\n",
    "sns.barplot(x = 'vac_period', y='index', data = vac_1, alpha = 0.5, palette='Reds')"
   ]
  },
  {
   "cell_type": "markdown",
   "metadata": {},
   "source": [
    "# Сколько вакансий с позициями на которых вы работаете?\n",
    "### 1 вакансия подходит под то, чем я сейчас занимаюсь"
   ]
  },
  {
   "cell_type": "code",
   "execution_count": 96,
   "metadata": {},
   "outputs": [
    {
     "data": {
      "text/html": [
       "<div>\n",
       "<style scoped>\n",
       "    .dataframe tbody tr th:only-of-type {\n",
       "        vertical-align: middle;\n",
       "    }\n",
       "\n",
       "    .dataframe tbody tr th {\n",
       "        vertical-align: top;\n",
       "    }\n",
       "\n",
       "    .dataframe thead th {\n",
       "        text-align: right;\n",
       "    }\n",
       "</style>\n",
       "<table border=\"1\" class=\"dataframe\">\n",
       "  <thead>\n",
       "    <tr style=\"text-align: right;\">\n",
       "      <th></th>\n",
       "      <th>id</th>\n",
       "      <th>vacid</th>\n",
       "      <th>vactitle</th>\n",
       "      <th>vacdescription</th>\n",
       "      <th>vacdate</th>\n",
       "      <th>vacstatus</th>\n",
       "      <th>vac_period</th>\n",
       "    </tr>\n",
       "  </thead>\n",
       "  <tbody>\n",
       "    <tr>\n",
       "      <th>2079</th>\n",
       "      <td>385558</td>\n",
       "      <td>1531484</td>\n",
       "      <td>Аналитик по управленческой отчетности (операци...</td>\n",
       "      <td>Условия:работа в крупнейшей компании страны;м...</td>\n",
       "      <td>2021-02-17</td>\n",
       "      <td>new</td>\n",
       "      <td>2021-02</td>\n",
       "    </tr>\n",
       "  </tbody>\n",
       "</table>\n",
       "</div>"
      ],
      "text/plain": [
       "          id    vacid                                           vactitle  \\\n",
       "2079  385558  1531484  Аналитик по управленческой отчетности (операци...   \n",
       "\n",
       "                                         vacdescription    vacdate vacstatus  \\\n",
       "2079   Условия:работа в крупнейшей компании страны;м... 2021-02-17       new   \n",
       "\n",
       "     vac_period  \n",
       "2079    2021-02  "
      ]
     },
     "execution_count": 96,
     "metadata": {},
     "output_type": "execute_result"
    }
   ],
   "source": [
    "vac_2 = vac.query('vactitle.str.lower().str.contains(\"аналитик\") \\\n",
    "                    &vactitle.str.lower().str.contains(\"риски\") \\\n",
    "                    & vacdescription.str.lower().str.contains(\"sql\") \\\n",
    "                    ', engine = 'python')\n",
    "vac_2"
   ]
  },
  {
   "cell_type": "markdown",
   "metadata": {},
   "source": [
    "# Cколько вакансий для аналатика данных?\n",
    "### 21"
   ]
  },
  {
   "cell_type": "code",
   "execution_count": 75,
   "metadata": {},
   "outputs": [
    {
     "data": {
      "text/plain": [
       "21"
      ]
     },
     "execution_count": 75,
     "metadata": {},
     "output_type": "execute_result"
    }
   ],
   "source": [
    "vac.query('vactitle.str.lower().str.contains(\"аналитик данных\")', engine='python').shape[0]"
   ]
  },
  {
   "cell_type": "markdown",
   "metadata": {},
   "source": [
    "# Сколько вакансий для аналитика данных с использованием Python?\n",
    "### 8"
   ]
  },
  {
   "cell_type": "code",
   "execution_count": 77,
   "metadata": {},
   "outputs": [
    {
     "data": {
      "text/plain": [
       "8"
      ]
     },
     "execution_count": 77,
     "metadata": {},
     "output_type": "execute_result"
    }
   ],
   "source": [
    "vac.query('vactitle.str.lower().str.contains(\"аналитик данных\") \\\n",
    "            & vacdescription.str.lower().str.contains(\"python\") \\\n",
    "            ', engine='python')\\\n",
    "            .shape[0]"
   ]
  }
 ],
 "metadata": {
  "kernelspec": {
   "display_name": "Python 3",
   "language": "python",
   "name": "python3"
  },
  "language_info": {
   "codemirror_mode": {
    "name": "ipython",
    "version": 3
   },
   "file_extension": ".py",
   "mimetype": "text/x-python",
   "name": "python",
   "nbconvert_exporter": "python",
   "pygments_lexer": "ipython3",
   "version": "3.8.3"
  }
 },
 "nbformat": 4,
 "nbformat_minor": 4
}
