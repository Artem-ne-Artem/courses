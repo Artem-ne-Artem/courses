{
 "cells": [
  {
   "cell_type": "markdown",
   "metadata": {},
   "source": [
    "### ДЗ №2 Файл titanicdf.csv, задачи:\n",
    "#### 1. Предобработать данные (пропуски, замена текста, дубликаты и т.д)\n",
    "#### 2. Использовать для классификации sklearn.ensemble.RandomForestClassifier\n",
    "#### 3. Подобрать лучшие гиперпараметры (n_estimators, criterion, max_depth)\n",
    "####         n_estimators - The number of trees in the forest\n",
    "####         criterion - Функция измерения качества разделения\n",
    "####         max_depth - Максимальная глубина дерева. Если None, то узлы расширяются до тех пор, пока все листья не станут чистыми или пока все листья не будут содержать выборок меньше, чем min_samples_split.\n",
    "#### 4. Провести кроссвалидацию модели\n",
    "#### 5. Оценить метрики бинарной классификации (Precision, recall, f1)\n",
    "#### 6. Построить ROC-кривую для оценки качества классификатора"
   ]
  },
  {
   "cell_type": "code",
   "execution_count": 300,
   "metadata": {},
   "outputs": [],
   "source": [
    "import pandas as pd\n",
    "import re # для работы с регулярными выражениями\n",
    "from nltk.corpus import stopwords # импорт стоп слов (предлоги и часто встречающиеся)\n",
    "\n",
    "# метод для обучения модели\n",
    "from sklearn import tree\n",
    "from sklearn.ensemble import RandomForestClassifier\n",
    "\n",
    "# метод для разделения dataset\n",
    "from sklearn.model_selection import train_test_split\n",
    "from sklearn.model_selection import cross_val_score\n",
    "from sklearn.model_selection import ShuffleSplit\n",
    "\n",
    "from sklearn.metrics import mean_squared_error\n",
    "from sklearn.metrics import accuracy_score\n",
    "from sklearn.metrics import precision_score\n",
    "from sklearn.metrics import recall_score\n",
    "from sklearn.metrics import f1_score\n",
    "from sklearn.metrics import roc_auc_score\n",
    "from sklearn.metrics import roc_curve\n",
    "from sklearn.metrics import auc\n",
    "from sklearn.metrics import fbeta_score\n",
    "from sklearn.model_selection import GridSearchCV\n",
    "\n",
    "import matplotlib.pyplot as plt"
   ]
  },
  {
   "cell_type": "code",
   "execution_count": 525,
   "metadata": {},
   "outputs": [],
   "source": [
    "df = pd.read_csv('titanicdf.csv')"
   ]
  },
  {
   "cell_type": "markdown",
   "metadata": {},
   "source": [
    "### Смотрим инф-ю по датасету"
   ]
  },
  {
   "cell_type": "code",
   "execution_count": 527,
   "metadata": {},
   "outputs": [
    {
     "name": "stdout",
     "output_type": "stream",
     "text": [
      "<class 'pandas.core.frame.DataFrame'>\n",
      "RangeIndex: 891 entries, 0 to 890\n",
      "Data columns (total 12 columns):\n",
      " #   Column       Non-Null Count  Dtype  \n",
      "---  ------       --------------  -----  \n",
      " 0   PassengerId  891 non-null    int64  \n",
      " 1   Survived     891 non-null    int64  \n",
      " 2   Pclass       891 non-null    int64  \n",
      " 3   Name         891 non-null    object \n",
      " 4   Sex          891 non-null    object \n",
      " 5   Age          714 non-null    float64\n",
      " 6   SibSp        891 non-null    int64  \n",
      " 7   Parch        891 non-null    int64  \n",
      " 8   Ticket       891 non-null    object \n",
      " 9   Fare         891 non-null    float64\n",
      " 10  Cabin        204 non-null    object \n",
      " 11  Embarked     889 non-null    object \n",
      "dtypes: float64(2), int64(5), object(5)\n",
      "memory usage: 83.7+ KB\n"
     ]
    }
   ],
   "source": [
    "df.info()"
   ]
  },
  {
   "cell_type": "code",
   "execution_count": 528,
   "metadata": {},
   "outputs": [
    {
     "name": "stdout",
     "output_type": "stream",
     "text": [
      "PassengerId 0.0\n",
      "Survived 0.0\n",
      "Pclass 0.0\n",
      "Name 0.0\n",
      "Sex 0.0\n",
      "Age 19.87\n",
      "SibSp 0.0\n",
      "Parch 0.0\n",
      "Ticket 0.0\n",
      "Fare 0.0\n",
      "Cabin 77.1\n",
      "Embarked 0.22\n"
     ]
    }
   ],
   "source": [
    "# пропуски в % от общего кол-ва по полю\n",
    "for col in df.columns:\n",
    "  print(col, round(df[col].isna().sum() / df.shape[0] *100,2))"
   ]
  },
  {
   "cell_type": "code",
   "execution_count": 529,
   "metadata": {},
   "outputs": [
    {
     "data": {
      "text/plain": [
       "PassengerId      0\n",
       "Survived         0\n",
       "Pclass           0\n",
       "Name             0\n",
       "Sex              0\n",
       "Age            177\n",
       "SibSp            0\n",
       "Parch            0\n",
       "Ticket           0\n",
       "Fare             0\n",
       "Cabin          687\n",
       "Embarked         2\n",
       "dtype: int64"
      ]
     },
     "execution_count": 529,
     "metadata": {},
     "output_type": "execute_result"
    }
   ],
   "source": [
    "df.isna().sum()"
   ]
  },
  {
   "cell_type": "code",
   "execution_count": 530,
   "metadata": {},
   "outputs": [
    {
     "data": {
      "text/plain": [
       "S    0.724409\n",
       "C    0.188976\n",
       "Q    0.086614\n",
       "Name: Embarked, dtype: float64"
      ]
     },
     "execution_count": 530,
     "metadata": {},
     "output_type": "execute_result"
    }
   ],
   "source": [
    "df.Embarked.value_counts(normalize=True)"
   ]
  },
  {
   "cell_type": "markdown",
   "metadata": {},
   "source": [
    "### Работаем с данными"
   ]
  },
  {
   "cell_type": "code",
   "execution_count": 531,
   "metadata": {},
   "outputs": [
    {
     "data": {
      "text/plain": [
       "0"
      ]
     },
     "execution_count": 531,
     "metadata": {},
     "output_type": "execute_result"
    }
   ],
   "source": [
    "# смотрим наличие дубликатов\n",
    "df.duplicated().sum()"
   ]
  },
  {
   "cell_type": "code",
   "execution_count": 576,
   "metadata": {},
   "outputs": [],
   "source": [
    "titanic_df = df.copy()\n",
    "\n",
    "# принудительно присваиваем полю Age медианное значение по Pclass и Sex\n",
    "titanic_df_age = titanic_df.groupby(['Pclass', 'Sex'], as_index=False)\\\n",
    "            .agg({'Age':'mean'})\\\n",
    "            .sort_values('Age',ascending=False)\n",
    "\n",
    "titanic_df = titanic_df.merge(titanic_df_age, how='left', on = ['Pclass', 'Sex'])\n",
    "titanic_df = titanic_df.rename(columns = {'Age_y':'Age'})\n",
    "del titanic_df['Age_x']\n",
    "\n",
    "# удаляем строчки с null по полю Embarked (таких всего 2)\n",
    "titanic_df = titanic_df[~titanic_df.Embarked.isna()]\n",
    "\n",
    "# df.dropna(inplace=True)"
   ]
  },
  {
   "cell_type": "code",
   "execution_count": 577,
   "metadata": {},
   "outputs": [],
   "source": [
    "# добавляем поле молодёж/не молодёж\n",
    "def check_age_for_molodezh(titanic_df):\n",
    "  if titanic_df.Age <= 35:\n",
    "    return 1\n",
    "  else:\n",
    "    return 0"
   ]
  },
  {
   "cell_type": "code",
   "execution_count": 578,
   "metadata": {},
   "outputs": [],
   "source": [
    "# добавляем поле группировку по десятилетиям\n",
    "def check_age_for_ten_years(titanic_df):\n",
    "    return titanic_df.Age // 10 * 10"
   ]
  },
  {
   "cell_type": "code",
   "execution_count": 579,
   "metadata": {},
   "outputs": [],
   "source": [
    "titanic_df['youth'] = titanic_df.apply(check_age_for_molodezh,axis=1)\n",
    "titanic_df['youth_10'] =titanic_df.apply(check_age_for_ten_years,axis=1)"
   ]
  },
  {
   "cell_type": "code",
   "execution_count": 580,
   "metadata": {},
   "outputs": [],
   "source": [
    "titanic_df = pd.get_dummies(data = titanic_df, columns=['Pclass', 'Sex', 'Embarked'])"
   ]
  },
  {
   "cell_type": "code",
   "execution_count": 581,
   "metadata": {},
   "outputs": [],
   "source": [
    "titanic_df = titanic_df[['Survived', 'Age', 'Fare', 'youth', 'Embarked_S']]"
   ]
  },
  {
   "cell_type": "code",
   "execution_count": 582,
   "metadata": {},
   "outputs": [
    {
     "data": {
      "text/html": [
       "<div>\n",
       "<style scoped>\n",
       "    .dataframe tbody tr th:only-of-type {\n",
       "        vertical-align: middle;\n",
       "    }\n",
       "\n",
       "    .dataframe tbody tr th {\n",
       "        vertical-align: top;\n",
       "    }\n",
       "\n",
       "    .dataframe thead th {\n",
       "        text-align: right;\n",
       "    }\n",
       "</style>\n",
       "<table border=\"1\" class=\"dataframe\">\n",
       "  <thead>\n",
       "    <tr style=\"text-align: right;\">\n",
       "      <th></th>\n",
       "      <th>Survived</th>\n",
       "      <th>Age</th>\n",
       "      <th>Fare</th>\n",
       "      <th>youth</th>\n",
       "      <th>Embarked_S</th>\n",
       "    </tr>\n",
       "  </thead>\n",
       "  <tbody>\n",
       "    <tr>\n",
       "      <th>0</th>\n",
       "      <td>0</td>\n",
       "      <td>26.507589</td>\n",
       "      <td>7.2500</td>\n",
       "      <td>1</td>\n",
       "      <td>1</td>\n",
       "    </tr>\n",
       "    <tr>\n",
       "      <th>1</th>\n",
       "      <td>1</td>\n",
       "      <td>34.611765</td>\n",
       "      <td>71.2833</td>\n",
       "      <td>1</td>\n",
       "      <td>0</td>\n",
       "    </tr>\n",
       "    <tr>\n",
       "      <th>2</th>\n",
       "      <td>1</td>\n",
       "      <td>21.750000</td>\n",
       "      <td>7.9250</td>\n",
       "      <td>1</td>\n",
       "      <td>1</td>\n",
       "    </tr>\n",
       "  </tbody>\n",
       "</table>\n",
       "</div>"
      ],
      "text/plain": [
       "   Survived        Age     Fare  youth  Embarked_S\n",
       "0         0  26.507589   7.2500      1           1\n",
       "1         1  34.611765  71.2833      1           0\n",
       "2         1  21.750000   7.9250      1           1"
      ]
     },
     "execution_count": 582,
     "metadata": {},
     "output_type": "execute_result"
    }
   ],
   "source": [
    "titanic_df.head(3)"
   ]
  },
  {
   "cell_type": "code",
   "execution_count": 583,
   "metadata": {},
   "outputs": [
    {
     "name": "stdout",
     "output_type": "stream",
     "text": [
      "Accuracy: 0.8385650224215246\n",
      "Precision: 0.8974358974358975\n",
      "Recall: 0.875\n",
      "F1: 0.8860759493670887\n"
     ]
    }
   ],
   "source": [
    "# x - все кроме таргета; y - таргет\n",
    "# x = titanic_df.drop('Survived',axis = 1)\n",
    "# y = titanic_df['Survived']\n",
    "\n",
    "x = titanic_df.drop('Embarked_S',axis = 1)\n",
    "y = titanic_df['Embarked_S']\n",
    "\n",
    "# делим set на обучающую (x) и тестовую части (y)\n",
    "X_train, X_test, y_train, y_test = train_test_split(x ,y ,test_size = 0.25 ,random_state = 1904)\n",
    "# метод RandomForestClassifier\n",
    "clf = RandomForestClassifier()\n",
    "model = clf.fit(X_train, y_train)\n",
    "pred = model.predict(X_test)\n",
    "\n",
    "print('Accuracy:', accuracy_score(y_test, pred))\n",
    "print('Precision:', precision_score(y_test, pred))\n",
    "print('Recall:', recall_score(y_test, pred))\n",
    "print('F1:', f1_score(y_test, pred))"
   ]
  },
  {
   "cell_type": "markdown",
   "metadata": {},
   "source": [
    "# Гиперпараметры"
   ]
  },
  {
   "cell_type": "code",
   "execution_count": 586,
   "metadata": {},
   "outputs": [
    {
     "name": "stdout",
     "output_type": "stream",
     "text": [
      "Wall time: 41.6 s\n"
     ]
    }
   ],
   "source": [
    "%%time\n",
    "test_deep = []\n",
    "for deep in range (1, 31):\n",
    "  for est in range (10, 40):\n",
    "    clf = RandomForestClassifier(max_depth = deep, n_estimators = est)\n",
    "    model = clf.fit(X_train, y_train)\n",
    "    pred = model.predict(X_test)\n",
    "    test_deep.append([deep, est, f1_score(y_test, pred),recall_score(y_test, pred)])"
   ]
  },
  {
   "cell_type": "code",
   "execution_count": 587,
   "metadata": {},
   "outputs": [
    {
     "data": {
      "text/html": [
       "<div>\n",
       "<style scoped>\n",
       "    .dataframe tbody tr th:only-of-type {\n",
       "        vertical-align: middle;\n",
       "    }\n",
       "\n",
       "    .dataframe tbody tr th {\n",
       "        vertical-align: top;\n",
       "    }\n",
       "\n",
       "    .dataframe thead th {\n",
       "        text-align: right;\n",
       "    }\n",
       "</style>\n",
       "<table border=\"1\" class=\"dataframe\">\n",
       "  <thead>\n",
       "    <tr style=\"text-align: right;\">\n",
       "      <th></th>\n",
       "      <th>tree_depth</th>\n",
       "      <th>est</th>\n",
       "      <th>f1_score</th>\n",
       "      <th>recall_score</th>\n",
       "    </tr>\n",
       "  </thead>\n",
       "  <tbody>\n",
       "    <tr>\n",
       "      <th>317</th>\n",
       "      <td>11</td>\n",
       "      <td>27</td>\n",
       "      <td>0.913580</td>\n",
       "      <td>0.92500</td>\n",
       "    </tr>\n",
       "    <tr>\n",
       "      <th>290</th>\n",
       "      <td>10</td>\n",
       "      <td>30</td>\n",
       "      <td>0.910769</td>\n",
       "      <td>0.92500</td>\n",
       "    </tr>\n",
       "    <tr>\n",
       "      <th>225</th>\n",
       "      <td>8</td>\n",
       "      <td>25</td>\n",
       "      <td>0.910769</td>\n",
       "      <td>0.92500</td>\n",
       "    </tr>\n",
       "    <tr>\n",
       "      <th>276</th>\n",
       "      <td>10</td>\n",
       "      <td>16</td>\n",
       "      <td>0.909657</td>\n",
       "      <td>0.91250</td>\n",
       "    </tr>\n",
       "    <tr>\n",
       "      <th>261</th>\n",
       "      <td>9</td>\n",
       "      <td>31</td>\n",
       "      <td>0.909091</td>\n",
       "      <td>0.90625</td>\n",
       "    </tr>\n",
       "  </tbody>\n",
       "</table>\n",
       "</div>"
      ],
      "text/plain": [
       "     tree_depth  est  f1_score  recall_score\n",
       "317          11   27  0.913580       0.92500\n",
       "290          10   30  0.910769       0.92500\n",
       "225           8   25  0.910769       0.92500\n",
       "276          10   16  0.909657       0.91250\n",
       "261           9   31  0.909091       0.90625"
      ]
     },
     "execution_count": 587,
     "metadata": {},
     "output_type": "execute_result"
    }
   ],
   "source": [
    "test_deep = pd.DataFrame(test_deep)\n",
    "test_deep.columns = ['tree_depth','est','f1_score','recall_score']\n",
    "\n",
    "test_deep.sort_values(by = 'f1_score',ascending = False).head(5)"
   ]
  },
  {
   "cell_type": "markdown",
   "metadata": {},
   "source": [
    "# GridSearch"
   ]
  },
  {
   "cell_type": "code",
   "execution_count": 588,
   "metadata": {},
   "outputs": [
    {
     "name": "stdout",
     "output_type": "stream",
     "text": [
      "Wall time: 0 ns\n"
     ]
    }
   ],
   "source": [
    "%%time\n",
    "tree_para = {'criterion':['gini','entropy'],\n",
    "             'max_depth':[4,5,6,7,8,9,10,11,12,15,20,30,40,50,70,90,120,150],\n",
    "             'n_estimators':[1,2,3,4,5,6,7,8,9,10,20,30,40,50]}"
   ]
  },
  {
   "cell_type": "code",
   "execution_count": 589,
   "metadata": {},
   "outputs": [
    {
     "name": "stdout",
     "output_type": "stream",
     "text": [
      "Wall time: 2min 30s\n"
     ]
    },
    {
     "data": {
      "text/plain": [
       "GridSearchCV(cv=10, estimator=RandomForestClassifier(),\n",
       "             param_grid={'criterion': ['gini', 'entropy'],\n",
       "                         'max_depth': [4, 5, 6, 7, 8, 9, 10, 11, 12, 15, 20, 30,\n",
       "                                       40, 50, 70, 90, 120, 150],\n",
       "                         'n_estimators': [1, 2, 3, 4, 5, 6, 7, 8, 9, 10, 20, 30,\n",
       "                                          40, 50]},\n",
       "             scoring='precision')"
      ]
     },
     "execution_count": 589,
     "metadata": {},
     "output_type": "execute_result"
    }
   ],
   "source": [
    "%%time\n",
    "clf_gs = GridSearchCV(RandomForestClassifier(), tree_para, cv=10, scoring = 'precision')\n",
    "clf_gs.fit(X_train, y_train)"
   ]
  },
  {
   "cell_type": "code",
   "execution_count": 590,
   "metadata": {},
   "outputs": [
    {
     "data": {
      "text/plain": [
       "{'criterion': 'gini', 'max_depth': 90, 'n_estimators': 2}"
      ]
     },
     "execution_count": 590,
     "metadata": {},
     "output_type": "execute_result"
    }
   ],
   "source": [
    "clf_gs.best_params_"
   ]
  },
  {
   "cell_type": "markdown",
   "metadata": {},
   "source": [
    "### New model"
   ]
  },
  {
   "cell_type": "code",
   "execution_count": 591,
   "metadata": {},
   "outputs": [
    {
     "name": "stdout",
     "output_type": "stream",
     "text": [
      "Accuracy: 0.8116591928251121\n",
      "Precision: 0.8986486486486487\n",
      "Recall: 0.83125\n",
      "F1: 0.8636363636363638\n"
     ]
    }
   ],
   "source": [
    "model_new = RandomForestClassifier(**clf_gs.best_params_)\n",
    "model_new.fit(X_train,y_train)\n",
    "new_pred = model_new.predict(X_test)\n",
    "\n",
    "print('Accuracy:',accuracy_score(y_test, new_pred))\n",
    "print('Precision:',precision_score(y_test, new_pred))\n",
    "print('Recall:',recall_score(y_test, new_pred))\n",
    "print('F1:',f1_score(y_test, new_pred))\n",
    "\n",
    "# Метрики до подбора гиперпараметров\n",
    "    # Accuracy: 0.8385650224215246\n",
    "    # Precision: 0.8974358974358975\n",
    "    # Recall: 0.875\n",
    "    # F1: 0.8860759493670887"
   ]
  },
  {
   "cell_type": "markdown",
   "metadata": {},
   "source": [
    "### После подстановки гиперпараметров, метрики Accuracy, Recall, F1 снизились....."
   ]
  },
  {
   "cell_type": "markdown",
   "metadata": {},
   "source": [
    "### ROC-AUC"
   ]
  },
  {
   "cell_type": "code",
   "execution_count": 592,
   "metadata": {},
   "outputs": [
    {
     "name": "stdout",
     "output_type": "stream",
     "text": [
      "RandomForestClassifier: ROC AUC=0.808\n"
     ]
    }
   ],
   "source": [
    "pred_proba_new = model_new.predict_proba(X_test)[:,1]\n",
    "fpr, tpr, treshold = roc_curve(y_test, pred_proba_new)\n",
    "tree_auc_new = roc_auc_score(y_test, pred_proba_new)\n",
    "print('RandomForestClassifier: ROC AUC=%.3f' % (tree_auc_new))"
   ]
  },
  {
   "cell_type": "code",
   "execution_count": 593,
   "metadata": {},
   "outputs": [
    {
     "data": {
      "image/png": "[encoded data removed]",
      "text/plain": [
       "<Figure size 432x288 with 1 Axes>"
      ]
     },
     "metadata": {
      "needs_background": "light"
     },
     "output_type": "display_data"
    }
   ],
   "source": [
    "roc_auc = auc(fpr, tpr)\n",
    "\n",
    "plt.plot(fpr, tpr,  color = 'darkorange', label = 'ROC кривая (area = %0.2f)' % roc_auc)\n",
    "plt.plot([0, 1], [0, 1], color = 'navy', linestyle = '--')\n",
    "plt.xlim([0.0, 1.0])\n",
    "plt.ylim([0.0, 1.05])\n",
    "plt.xlabel('False Positive Rate')\n",
    "plt.ylabel('True Positive Rate')\n",
    "plt.title('Пример ROC-кривой')\n",
    "plt.legend(loc = \"lower right\")\n",
    "plt.show()"
   ]
  },
  {
   "cell_type": "markdown",
   "metadata": {},
   "source": [
    "# Кросс-валидация"
   ]
  },
  {
   "cell_type": "code",
   "execution_count": 594,
   "metadata": {},
   "outputs": [],
   "source": [
    "cv = ShuffleSplit(n_splits=10, test_size=0.25, random_state=0)\n",
    "scores = cross_val_score(model_new, X_train, y_train, cv=cv, scoring='precision')"
   ]
  },
  {
   "cell_type": "code",
   "execution_count": 595,
   "metadata": {},
   "outputs": [
    {
     "data": {
      "text/plain": [
       "0.8696608997427242"
      ]
     },
     "execution_count": 595,
     "metadata": {},
     "output_type": "execute_result"
    }
   ],
   "source": [
    "scores.mean()"
   ]
  },
  {
   "cell_type": "code",
   "execution_count": 596,
   "metadata": {},
   "outputs": [
    {
     "data": {
      "text/plain": [
       "array([0.82905983, 0.87155963, 0.87719298, 0.9245283 , 0.86238532,\n",
       "       0.87903226, 0.87394958, 0.87401575, 0.82352941, 0.88135593])"
      ]
     },
     "execution_count": 596,
     "metadata": {},
     "output_type": "execute_result"
    }
   ],
   "source": [
    "scores"
   ]
  }
 ],
 "metadata": {
  "kernelspec": {
   "display_name": "Python 3",
   "language": "python",
   "name": "python3"
  },
  "language_info": {
   "codemirror_mode": {
    "name": "ipython",
    "version": 3
   },
   "file_extension": ".py",
   "mimetype": "text/x-python",
   "name": "python",
   "nbconvert_exporter": "python",
   "pygments_lexer": "ipython3",
   "version": "3.8.3"
  }
 },
 "nbformat": 4,
 "nbformat_minor": 4
}
